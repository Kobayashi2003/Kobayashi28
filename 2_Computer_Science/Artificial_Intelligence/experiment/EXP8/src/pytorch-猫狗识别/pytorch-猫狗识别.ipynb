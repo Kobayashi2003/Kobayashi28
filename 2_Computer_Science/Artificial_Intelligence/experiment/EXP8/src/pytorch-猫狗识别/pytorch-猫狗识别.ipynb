{
 "cells": [
  {
   "cell_type": "markdown",
   "metadata": {
    "tags": [
     "猫狗识别 "
    ]
   },
   "source": [
    "# 猫狗识别\n",
    "\n",
    "阅读本文你将学会**如何使用 PyTorch 进行图像识别**"
   ]
  },
  {
   "cell_type": "code",
   "execution_count": 16,
   "metadata": {
    "tags": []
   },
   "outputs": [],
   "source": [
    "import torch\n",
    "from torch import nn\n",
    "from torch.utils.data import DataLoader\n",
    "from torchvision import datasets\n",
    "from torchvision.transforms import ToTensor, Lambda, Compose\n",
    "import matplotlib.pyplot as plt\n",
    "import torchvision.transforms as transforms\n",
    "import numpy as np"
   ]
  },
  {
   "cell_type": "markdown",
   "metadata": {},
   "source": [
    "## 数据读取与预处理"
   ]
  },
  {
   "cell_type": "markdown",
   "metadata": {},
   "source": [
    "在对数据进行增强时注意是否合理哦！原本我使用了下面的代码对数据进行增强，试图解决数据不足的问题，经过测试我发现并非所有的增强操作都会产生正面影响。\n",
    "\n",
    "对此，我做过几个对比小实验，保持其他参数不变，仅改变数据增强方式，最后实验结果如下：\n",
    "- 不进行数据增强：79.2%\n",
    "- 随机旋转：80.8%\n",
    "- 随机旋转+高斯模糊模糊：83.3%\n",
    "- 随机垂直翻转：73.3%"
   ]
  },
  {
   "cell_type": "code",
   "execution_count": 17,
   "metadata": {
    "tags": []
   },
   "outputs": [],
   "source": [
    "train_datadir = './1-cat-dog/train/'\n",
    "test_datadir  = './1-cat-dog/val/'\n",
    "\n",
    "train_transforms = transforms.Compose([\n",
    "    transforms.Resize([224, 224]),  # 将输入图片resize成统一尺寸\n",
    "#     transforms.RandomRotation(degrees=(-10, 10)),  #随机旋转，-10到10度之间随机选\n",
    "#     transforms.RandomHorizontalFlip(p=0.5),  #随机水平翻转 选择一个概率概率\n",
    "#     transforms.RandomVerticalFlip(p=0.5),  #随机垂直翻转\n",
    "#     transforms.RandomPerspective(distortion_scale=0.6, p=1.0), # 随机视角\n",
    "#     transforms.GaussianBlur(kernel_size=(5, 9), sigma=(0.1, 5)),  #随机选择的高斯模糊模糊图像\n",
    "    transforms.ToTensor(),          # 将PIL Image或numpy.ndarray转换为tensor，并归一化到[0,1]之间\n",
    "    transforms.Normalize(           # 标准化处理-->转换为标准正太分布（高斯分布），使模型更容易收敛\n",
    "        mean=[0.485, 0.456, 0.406], \n",
    "        std=[0.229, 0.224, 0.225])  # 其中 mean=[0.485,0.456,0.406]与std=[0.229,0.224,0.225] 从数据集中随机抽样计算得到的。\n",
    "])\n",
    "\n",
    "test_transforms = transforms.Compose([\n",
    "    transforms.Resize([224, 224]),  # 将输入图片resize成统一尺寸\n",
    "    transforms.ToTensor(),          # 将PIL Image或numpy.ndarray转换为tensor，并归一化到[0,1]之间\n",
    "    transforms.Normalize(           # 标准化处理-->转换为标准正太分布（高斯分布），使模型更容易收敛\n",
    "        mean=[0.485, 0.456, 0.406], \n",
    "        std=[0.229, 0.224, 0.225])  # 其中 mean=[0.485,0.456,0.406]与std=[0.229,0.224,0.225] 从数据集中随机抽样计算得到的。\n",
    "])\n",
    "\n",
    "train_data = datasets.ImageFolder(train_datadir,transform=train_transforms)\n",
    "\n",
    "test_data  = datasets.ImageFolder(test_datadir,transform=test_transforms)\n",
    "\n",
    "train_loader = torch.utils.data.DataLoader(train_data,\n",
    "                                          batch_size=4,\n",
    "                                          shuffle=True,\n",
    "                                          num_workers=1)\n",
    "test_loader  = torch.utils.data.DataLoader(test_data,\n",
    "                                          batch_size=4,\n",
    "                                          shuffle=True,\n",
    "                                          num_workers=1)"
   ]
  },
  {
   "cell_type": "markdown",
   "metadata": {},
   "source": [
    "关于 `transforms.Compose` 这部分更多的信息可以参考 https://pytorch-cn.readthedocs.io/zh/latest/torchvision/torchvision-transform/\n",
    "\n",
    "如果你想知道还有哪些数据增强手段，可以看看这里： https://pytorch.org/vision/stable/transforms.html"
   ]
  },
  {
   "cell_type": "code",
   "execution_count": 18,
   "metadata": {
    "tags": []
   },
   "outputs": [
    {
     "name": "stdout",
     "output_type": "stream",
     "text": [
      "Shape of X [N, C, H, W]:  torch.Size([4, 3, 224, 224])\n",
      "Shape of y:  torch.Size([4]) torch.int64\n"
     ]
    }
   ],
   "source": [
    "for X, y in test_loader:\n",
    "    print(\"Shape of X [N, C, H, W]: \", X.shape)\n",
    "    print(\"Shape of y: \", y.shape, y.dtype)\n",
    "    break"
   ]
  },
  {
   "cell_type": "markdown",
   "metadata": {},
   "source": [
    "## 定义模型"
   ]
  },
  {
   "cell_type": "code",
   "execution_count": 19,
   "metadata": {},
   "outputs": [
    {
     "name": "stdout",
     "output_type": "stream",
     "text": [
      "Using cpu device\n",
      "LeNet(\n",
      "  (conv1): Conv2d(3, 6, kernel_size=(5, 5), stride=(1, 1))\n",
      "  (conv2): Conv2d(6, 16, kernel_size=(5, 5), stride=(1, 1))\n",
      "  (fc1): Linear(in_features=44944, out_features=120, bias=True)\n",
      "  (fc2): Linear(in_features=120, out_features=84, bias=True)\n",
      "  (fc3): Linear(in_features=84, out_features=2, bias=True)\n",
      "  (pool): MaxPool2d(kernel_size=2, stride=2, padding=0, dilation=1, ceil_mode=False)\n",
      ")\n"
     ]
    }
   ],
   "source": [
    "import torch.nn.functional as F\n",
    "\n",
    "# 找到可以用于训练的 GPU\n",
    "device = \"cuda\" if torch.cuda.is_available() else \"cpu\"\n",
    "print(\"Using {} device\".format(device))\n",
    "\n",
    "# 定义模型\n",
    "class LeNet(nn.Module):\n",
    "    # 一般在__init__中定义网络需要的操作算子，比如卷积、全连接算子等等\n",
    "    def __init__(self):\n",
    "        super(LeNet, self).__init__()\n",
    "        # Conv2d的第一个参数是输入的channel数量，第二个是输出的channel数量，第三个是kernel size\n",
    "        self.conv1 = nn.Conv2d(3, 6, 5)\n",
    "        self.conv2 = nn.Conv2d(6, 16, 5)\n",
    "        # 由于上一层有16个channel输出，每个feature map大小为5*5，所以全连接层的输入是16*5*5\n",
    "        self.fc1 = nn.Linear(16*53*53, 120)\n",
    "        self.fc2 = nn.Linear(120, 84)\n",
    "        # 最终有2类，所以最后一个全连接层输出数量是2\n",
    "        self.fc3 = nn.Linear(84, 2)\n",
    "        self.pool = nn.MaxPool2d(2, 2)\n",
    "    # forward这个函数定义了前向传播的运算，只需要像写普通的python算数运算那样就可以了\n",
    "    def forward(self, x):\n",
    "        x = F.relu(self.conv1(x))\n",
    "        x = self.pool(x)\n",
    "        x = F.relu(self.conv2(x))\n",
    "        x = self.pool(x)\n",
    "        # 下面这步把二维特征图变为一维，这样全连接层才能处理\n",
    "        x = x.view(-1, 16*53*53)\n",
    "        x = F.relu(self.fc1(x))\n",
    "        x = F.relu(self.fc2(x))\n",
    "        x = self.fc3(x)\n",
    "        return x\n",
    "\n",
    "model = LeNet().to(device)\n",
    "print(model)"
   ]
  },
  {
   "cell_type": "markdown",
   "metadata": {
    "jp-MarkdownHeadingCollapsed": true,
    "tags": []
   },
   "source": [
    "## 损失函数与优化器"
   ]
  },
  {
   "cell_type": "markdown",
   "metadata": {},
   "source": [
    "定义一个损失函数和一个优化器。"
   ]
  },
  {
   "cell_type": "code",
   "execution_count": 20,
   "metadata": {},
   "outputs": [],
   "source": [
    "loss_fn = nn.CrossEntropyLoss()\n",
    "optimizer = torch.optim.SGD(model.parameters(), lr=1e-3)"
   ]
  },
  {
   "cell_type": "markdown",
   "metadata": {
    "jp-MarkdownHeadingCollapsed": true,
    "tags": []
   },
   "source": [
    "## 定义训练函数"
   ]
  },
  {
   "cell_type": "markdown",
   "metadata": {},
   "source": [
    "在单个训练循环中，模型对训练数据集进行预测（分批提供给它），并反向传播预测误差从而调整模型的参数。"
   ]
  },
  {
   "cell_type": "code",
   "execution_count": 21,
   "metadata": {},
   "outputs": [],
   "source": [
    "def train(dataloader, model, loss_fn, optimizer):\n",
    "    size = len(dataloader.dataset)\n",
    "    model.train()\n",
    "    for batch, (X, y) in enumerate(dataloader):\n",
    "        X, y = X.to(device), y.to(device)\n",
    "\n",
    "        # 计算预测误差\n",
    "        pred = model(X)\n",
    "        loss = loss_fn(pred, y)\n",
    "\n",
    "        # 反向传播\n",
    "        optimizer.zero_grad()\n",
    "        loss.backward()\n",
    "        optimizer.step()\n",
    "\n",
    "        if batch % 100 == 0:\n",
    "            loss, current = loss.item(), batch * len(X)\n",
    "            print(f\"loss: {loss:>7f}  [{current:>5d}/{size:>5d}]\")"
   ]
  },
  {
   "cell_type": "markdown",
   "metadata": {},
   "source": [
    "## 定义测试函数"
   ]
  },
  {
   "cell_type": "code",
   "execution_count": 22,
   "metadata": {},
   "outputs": [],
   "source": [
    "def test(dataloader, model, loss_fn):\n",
    "    size = len(dataloader.dataset)\n",
    "    num_batches = len(dataloader)\n",
    "    model.eval()\n",
    "    test_loss, correct = 0, 0\n",
    "    with torch.no_grad():\n",
    "        for X, y in dataloader:\n",
    "            X, y = X.to(device), y.to(device)\n",
    "            pred = model(X)\n",
    "            test_loss += loss_fn(pred, y).item()\n",
    "            correct += (pred.argmax(1) == y).type(torch.float).sum().item()\n",
    "    test_loss /= num_batches\n",
    "    correct /= size\n",
    "    print(f\"Test Error: \\n Accuracy: {(100*correct):>0.1f}%, Avg loss: {test_loss:>8f} \\n\")"
   ]
  },
  {
   "cell_type": "markdown",
   "metadata": {},
   "source": [
    "## 进行训练"
   ]
  },
  {
   "cell_type": "code",
   "execution_count": 23,
   "metadata": {
    "scrolled": true,
    "tags": []
   },
   "outputs": [
    {
     "name": "stdout",
     "output_type": "stream",
     "text": [
      "Epoch 1\n",
      "-------------------------------\n",
      "loss: 0.765885  [    0/  480]\n",
      "loss: 0.687276  [  400/  480]\n",
      "Test Error: \n",
      " Accuracy: 52.5%, Avg loss: 0.685243 \n",
      "\n",
      "Epoch 2\n",
      "-------------------------------\n",
      "loss: 0.652565  [    0/  480]\n",
      "loss: 0.661249  [  400/  480]\n",
      "Test Error: \n",
      " Accuracy: 67.5%, Avg loss: 0.661900 \n",
      "\n",
      "Epoch 3\n",
      "-------------------------------\n",
      "loss: 0.629588  [    0/  480]\n",
      "loss: 0.536548  [  400/  480]\n",
      "Test Error: \n",
      " Accuracy: 68.3%, Avg loss: 0.608989 \n",
      "\n",
      "Epoch 4\n",
      "-------------------------------\n",
      "loss: 0.473581  [    0/  480]\n",
      "loss: 0.341041  [  400/  480]\n",
      "Test Error: \n",
      " Accuracy: 70.8%, Avg loss: 0.528783 \n",
      "\n",
      "Epoch 5\n",
      "-------------------------------\n",
      "loss: 0.153299  [    0/  480]\n",
      "loss: 0.227830  [  400/  480]\n",
      "Test Error: \n",
      " Accuracy: 78.3%, Avg loss: 0.490136 \n",
      "\n",
      "Epoch 6\n",
      "-------------------------------\n",
      "loss: 0.275428  [    0/  480]\n",
      "loss: 0.480467  [  400/  480]\n",
      "Test Error: \n",
      " Accuracy: 74.2%, Avg loss: 0.504982 \n",
      "\n",
      "Epoch 7\n",
      "-------------------------------\n",
      "loss: 0.177029  [    0/  480]\n",
      "loss: 0.198866  [  400/  480]\n",
      "Test Error: \n",
      " Accuracy: 78.3%, Avg loss: 0.539428 \n",
      "\n",
      "Epoch 8\n",
      "-------------------------------\n",
      "loss: 0.087402  [    0/  480]\n",
      "loss: 0.081733  [  400/  480]\n",
      "Test Error: \n",
      " Accuracy: 81.7%, Avg loss: 0.470180 \n",
      "\n",
      "Epoch 9\n",
      "-------------------------------\n",
      "loss: 0.054239  [    0/  480]\n",
      "loss: 0.049218  [  400/  480]\n",
      "Test Error: \n",
      " Accuracy: 80.0%, Avg loss: 0.448936 \n",
      "\n",
      "Epoch 10\n",
      "-------------------------------\n",
      "loss: 0.287717  [    0/  480]\n",
      "loss: 0.696647  [  400/  480]\n",
      "Test Error: \n",
      " Accuracy: 80.0%, Avg loss: 0.447253 \n",
      "\n",
      "Epoch 11\n",
      "-------------------------------\n",
      "loss: 0.342855  [    0/  480]\n",
      "loss: 0.084907  [  400/  480]\n",
      "Test Error: \n",
      " Accuracy: 81.7%, Avg loss: 0.474470 \n",
      "\n",
      "Epoch 12\n",
      "-------------------------------\n",
      "loss: 0.124892  [    0/  480]\n",
      "loss: 0.151610  [  400/  480]\n",
      "Test Error: \n",
      " Accuracy: 77.5%, Avg loss: 0.456424 \n",
      "\n",
      "Epoch 13\n",
      "-------------------------------\n",
      "loss: 0.021801  [    0/  480]\n",
      "loss: 0.020646  [  400/  480]\n",
      "Test Error: \n",
      " Accuracy: 78.3%, Avg loss: 0.599779 \n",
      "\n",
      "Epoch 14\n",
      "-------------------------------\n",
      "loss: 0.005602  [    0/  480]\n",
      "loss: 0.025274  [  400/  480]\n",
      "Test Error: \n",
      " Accuracy: 85.0%, Avg loss: 0.440676 \n",
      "\n",
      "Epoch 15\n",
      "-------------------------------\n",
      "loss: 0.056227  [    0/  480]\n",
      "loss: 0.001794  [  400/  480]\n",
      "Test Error: \n",
      " Accuracy: 81.7%, Avg loss: 0.627810 \n",
      "\n",
      "Epoch 16\n",
      "-------------------------------\n",
      "loss: 0.109221  [    0/  480]\n",
      "loss: 0.000464  [  400/  480]\n",
      "Test Error: \n",
      " Accuracy: 80.0%, Avg loss: 0.573228 \n",
      "\n",
      "Epoch 17\n",
      "-------------------------------\n",
      "loss: 0.028971  [    0/  480]\n",
      "loss: 0.005886  [  400/  480]\n",
      "Test Error: \n",
      " Accuracy: 82.5%, Avg loss: 0.568477 \n",
      "\n",
      "Epoch 18\n",
      "-------------------------------\n",
      "loss: 0.001403  [    0/  480]\n",
      "loss: 0.343260  [  400/  480]\n",
      "Test Error: \n",
      " Accuracy: 84.2%, Avg loss: 0.549863 \n",
      "\n",
      "Epoch 19\n",
      "-------------------------------\n",
      "loss: 0.005389  [    0/  480]\n",
      "loss: 0.161802  [  400/  480]\n",
      "Test Error: \n",
      " Accuracy: 82.5%, Avg loss: 0.576225 \n",
      "\n",
      "Epoch 20\n",
      "-------------------------------\n",
      "loss: 0.053033  [    0/  480]\n",
      "loss: 0.000415  [  400/  480]\n",
      "Test Error: \n",
      " Accuracy: 82.5%, Avg loss: 0.645851 \n",
      "\n",
      "Done!\n"
     ]
    }
   ],
   "source": [
    "epochs = 20\n",
    "for t in range(epochs):\n",
    "    print(f\"Epoch {t+1}\\n-------------------------------\")\n",
    "    train(train_loader, model, loss_fn, optimizer)\n",
    "    test(test_loader, model, loss_fn)\n",
    "print(\"Done!\")"
   ]
  },
  {
   "cell_type": "code",
   "execution_count": null,
   "metadata": {},
   "outputs": [],
   "source": []
  }
 ],
 "metadata": {
  "kernelspec": {
   "display_name": "Python 3 (ipykernel)",
   "language": "python",
   "name": "python3"
  },
  "language_info": {
   "codemirror_mode": {
    "name": "ipython",
    "version": 3
   },
   "file_extension": ".py",
   "mimetype": "text/x-python",
   "name": "python",
   "nbconvert_exporter": "python",
   "pygments_lexer": "ipython3",
   "version": "3.8.16"
  }
 },
 "nbformat": 4,
 "nbformat_minor": 4
}
