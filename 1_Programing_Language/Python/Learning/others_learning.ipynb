{
 "cells": [
  {
   "cell_type": "code",
   "execution_count": 1,
   "metadata": {},
   "outputs": [
    {
     "name": "stdout",
     "output_type": "stream",
     "text": [
      "Banana\n"
     ]
    }
   ],
   "source": [
    "from typing import TypeAlias\n",
    "\n",
    "Basket: TypeAlias = 'list[Fruit]'\n",
    "\n",
    "class Fruit:\n",
    "    def __init__(self, fruit: str):\n",
    "        self.fruit = fruit\n",
    "\n",
    "    def create_basket(self) -> Basket:\n",
    "        return 3 * [Fruit(self.fruit)]\n",
    "\n",
    "banana: Fruit = Fruit('Banana')\n",
    "basket: Basket = banana.create_basket()\n",
    "print(basket[0].fruit)"
   ]
  },
  {
   "cell_type": "code",
   "execution_count": 4,
   "metadata": {},
   "outputs": [
    {
     "name": "stdout",
     "output_type": "stream",
     "text": [
      "Reading indently.txt in \"r\" mode\n",
      "Unknown mode \"T\"\n"
     ]
    }
   ],
   "source": [
    "from typing import TypeAlias, Literal\n",
    "\n",
    "Mode: TypeAlias = Literal['r', 'w', 'a']\n",
    "\n",
    "def open_file(file: str, mode: Mode) -> str:\n",
    "    match mode:\n",
    "        case 'r':\n",
    "            return f'Reading {file} in \"{mode}\" mode'\n",
    "        case 'w':\n",
    "            return f'Writing {file} in \"{mode}\" mode'\n",
    "        case 'a':\n",
    "            return f'Appending {file} in \"{mode}\" mode'\n",
    "        case _:\n",
    "            return f'Unknown mode \"{mode}\"'\n",
    "\n",
    "print(open_file('indently.txt', 'r'))\n",
    "print(open_file('indently.txt', 'T'))\n"
   ]
  },
  {
   "cell_type": "code",
   "execution_count": 5,
   "metadata": {},
   "outputs": [
    {
     "name": "stdout",
     "output_type": "stream",
     "text": [
      "10\n",
      "Found 10\n",
      "Found 10\n"
     ]
    }
   ],
   "source": [
    "from typing import NewType\n",
    "\n",
    "UserId = NewType('UserId', int)\n",
    "print(UserId(10))\n",
    "\n",
    "def find_user(user_id: UserId):\n",
    "    print('Found', user_id)\n",
    "\n",
    "find_user(UserId(10))\n",
    "find_user(10)"
   ]
  },
  {
   "cell_type": "code",
   "execution_count": 6,
   "metadata": {},
   "outputs": [
    {
     "name": "stdout",
     "output_type": "stream",
     "text": [
      "m a tea\n",
      "I am a tea\n",
      "topaet a ton ma I\n"
     ]
    }
   ],
   "source": [
    "text: str = 'I am a teapot'\n",
    "text2: str = 'I am not a teapot'\n",
    "\n",
    "my_slice = slice(3, 10)\n",
    "my_slice2 = slice(None, 10)\n",
    "my_slice3 = slice(None, None, -1)\n",
    "\n",
    "print(text[my_slice])\n",
    "print(text[my_slice2])\n",
    "print(text2[my_slice3])"
   ]
  },
  {
   "cell_type": "code",
   "execution_count": 9,
   "metadata": {},
   "outputs": [
    {
     "name": "stdout",
     "output_type": "stream",
     "text": [
      "15\n",
      "INIT-I-am-a-teapot\n"
     ]
    }
   ],
   "source": [
    "from functools import reduce\n",
    "\n",
    "numbers: list[int] = [1, 2, 3, 4, 5]\n",
    "result: float = reduce(lambda a, b: a + b, numbers)\n",
    "\n",
    "print(result)\n",
    "\n",
    "strings: list[str] = ['I', 'am', 'a', 'teapot']\n",
    "result: str = reduce(lambda a, b: f'{a}-{b}', strings, 'INIT')\n",
    "\n",
    "print(result)"
   ]
  },
  {
   "cell_type": "code",
   "execution_count": 10,
   "metadata": {},
   "outputs": [
    {
     "name": "stdout",
     "output_type": "stream",
     "text": [
      "f6\n",
      "e5\n",
      "d4\n",
      "['c3', 'b2', 'a1']\n"
     ]
    }
   ],
   "source": [
    "from sys import getsizeof\n",
    "from typing import Any\n",
    "\n",
    "def display_info(var: Any):\n",
    "    print(f'{var} ({getsizeof(var)} bytes)')\n",
    "\n",
    "# Iterables\n",
    "text: str = 'Python language'\n",
    "coordinates: list[str] = ['a1', 'b2', 'c3', 'd4', 'e5', 'f6']\n",
    "\n",
    "reversed_text = reversed(text)\n",
    "reversed_coord = reversed(coordinates)\n",
    "\n",
    "print(next(reversed_coord))\n",
    "print(next(reversed_coord))\n",
    "print(next(reversed_coord))\n",
    "print(list(reversed_coord))\n"
   ]
  },
  {
   "cell_type": "code",
   "execution_count": 4,
   "metadata": {},
   "outputs": [],
   "source": [
    "# from typing import TypedDict, NotRequired, Required # Python 3.11\n",
    "from typing import TypedDict\n",
    "\n",
    "class Coordinate(TypedDict):\n",
    "    x: float\n",
    "    y: float\n",
    "    label: str\n",
    "    category: str\n",
    "\n",
    "coordinate: Coordinate = {'x': 10, 'y': 20, 'label': 'A', 'category': 'red'}"
   ]
  },
  {
   "cell_type": "code",
   "execution_count": 4,
   "metadata": {},
   "outputs": [
    {
     "name": "stdout",
     "output_type": "stream",
     "text": [
      "Task is running 1713512004.8875058\n",
      "Task is running 1713512004.8875058\n",
      "Task is running 1713512004.8875058\n",
      "Task is running 1713512005.899337\n",
      "Task is running 1713512006.9137769\n",
      "Stopped by user\n"
     ]
    }
   ],
   "source": [
    "import schedule\n",
    "from schedule import every, repeat\n",
    "import time\n",
    "\n",
    "def task():\n",
    "    print('Task is running', time.time())\n",
    "\n",
    "@repeat(every(5).seconds)\n",
    "def task2():\n",
    "    print('Task 2 is running', time.time())\n",
    "\n",
    "def main():\n",
    "    schedule.every().minute.at(':15').do(task)\n",
    "    schedule.every(5).seconds.do(task)\n",
    "\n",
    "    while True:\n",
    "        schedule.run_pending()\n",
    "        time.sleep(1)\n",
    "\n",
    "try:\n",
    "    main()\n",
    "except KeyboardInterrupt:\n",
    "    print('Stopped by user')"
   ]
  },
  {
   "cell_type": "code",
   "execution_count": 4,
   "metadata": {},
   "outputs": [
    {
     "name": "stdout",
     "output_type": "stream",
     "text": [
      "Task is running 1713513546.6224785\n",
      "Pending tasks: 4\n",
      "Pending tasks: 0\n",
      "Pending tasks: 0\n",
      "Pending tasks: 0\n",
      "Pending tasks: 0\n",
      "Pending tasks: 0\n"
     ]
    }
   ],
   "source": [
    "import schedule\n",
    "import time\n",
    "\n",
    "def task():\n",
    "    print(\"Doing task...\", f'{time.time():.2f}')\n",
    "    return schedule.CancelJob\n",
    "\n",
    "schedule.every(5).seconds.do(task)\n",
    "schedule.every(5).seconds.do(task)\n",
    "schedule.every(5).seconds.do(task)\n",
    "\n",
    "for _ in range(6):\n",
    "    schedule.run_pending()\n",
    "    time.sleep(1)\n",
    "    print('Pending tasks:', len(schedule.jobs))\n",
    "    schedule.clear()\n"
   ]
  },
  {
   "cell_type": "code",
   "execution_count": 5,
   "metadata": {},
   "outputs": [
    {
     "name": "stdout",
     "output_type": "stream",
     "text": [
      "[Every 1 hour do task() (last run: [never], next run: 2024-04-19 17:00:24)]\n",
      "[Every 1 minute do task() (last run: [never], next run: 2024-04-19 16:01:24), Every 10 seconds do task() (last run: [never], next run: 2024-04-19 16:00:34)]\n"
     ]
    }
   ],
   "source": [
    "import schedule\n",
    "import time\n",
    "\n",
    "def task():\n",
    "    print('Task is running', time.time())\n",
    "\n",
    "schedule.every().minute.do(task).tag('work', '1')\n",
    "schedule.every().hour.do(task).tag('fun', '2')\n",
    "schedule.every(10).seconds.until('19:00').do(task)\n",
    "\n",
    "print(schedule.get_jobs('fun')) \n",
    "schedule.clear('fun')\n",
    "print(schedule.get_jobs())"
   ]
  },
  {
   "cell_type": "code",
   "execution_count": 7,
   "metadata": {},
   "outputs": [],
   "source": [
    "# IIFE immediately invoked function expression\n",
    "@lambda _:_() # invoke immediately\n",
    "def result() -> int:\n",
    "    a = 6\n",
    "    b = 7\n",
    "    return a * b\n",
    "\n",
    "assert isinstance(result, int)\n",
    "assert result == 42\n",
    "assert \"a\" not in locals()\n",
    "assert \"b\" not in locals()"
   ]
  },
  {
   "cell_type": "code",
   "execution_count": 9,
   "metadata": {},
   "outputs": [
    {
     "name": "stdout",
     "output_type": "stream",
     "text": [
      "Started at 2024-04-19 17:07:43\n"
     ]
    }
   ],
   "source": [
    "from datetime import datetime\n",
    "\n",
    "@lambda _:_()\n",
    "def get_date() -> datetime:\n",
    "    time_text: str = f'Started at {datetime.now():%Y-%m-%d %H:%M:%S}'\n",
    "    print(time_text)\n",
    "    return time_text"
   ]
  },
  {
   "cell_type": "code",
   "execution_count": 11,
   "metadata": {},
   "outputs": [
    {
     "name": "stdout",
     "output_type": "stream",
     "text": [
      "50,037.51%\n"
     ]
    }
   ],
   "source": [
    "percent: float = 500.3751\n",
    "print(f'{percent:,.2%}')"
   ]
  },
  {
   "cell_type": "code",
   "execution_count": 12,
   "metadata": {},
   "outputs": [
    {
     "name": "stdout",
     "output_type": "stream",
     "text": [
      "0\n",
      "{'Alice': 25, 'Bob': 30, 'Charlie': 35}\n",
      "0\n",
      "{'Alice': 25, 'Bob': 30, 'Charlie': 35, 'kobayashi': 0}\n"
     ]
    }
   ],
   "source": [
    "people: dict = {'Alice': 25, 'Bob': 30, 'Charlie': 35}\n",
    "print(people.get('kobayashi', 0)) \n",
    "print(people)\n",
    "print(people.setdefault('kobayashi', 0))\n",
    "print(people)"
   ]
  },
  {
   "cell_type": "code",
   "execution_count": 13,
   "metadata": {},
   "outputs": [],
   "source": [
    "def analyze_text(text: str) -> dict:\n",
    "    details: dict = {'words': (words := text.split()), \n",
    "                     'count': len(words)}\n",
    "    return details"
   ]
  },
  {
   "cell_type": "code",
   "execution_count": 3,
   "metadata": {},
   "outputs": [
    {
     "name": "stdout",
     "output_type": "stream",
     "text": [
      "Connecting...\n",
      "Connected to the Internet!\n",
      "WARNING: There's already an instance of connection\n",
      "Connected to the Internet!\n",
      "True\n"
     ]
    }
   ],
   "source": [
    "class Connection:\n",
    "    __instance = None\n",
    "\n",
    "    def __new__(cls, *args, **kwargs):\n",
    "        if cls.__instance is None:\n",
    "            print('Connecting...')\n",
    "            cls.__instance = super().__new__(cls)\n",
    "        else:\n",
    "            print('WARNING: There\\'s already an instance of connection') \n",
    "        return cls.__instance\n",
    "\n",
    "    def __init__(self):\n",
    "        print('Connected to the Internet!')\n",
    "\n",
    "connection = Connection()\n",
    "connection2 = Connection()\n",
    "\n",
    "print(connection is connection2)\n"
   ]
  },
  {
   "cell_type": "code",
   "execution_count": 5,
   "metadata": {},
   "outputs": [
    {
     "name": "stdout",
     "output_type": "stream",
     "text": [
      "Your version of Python is outdated...\n"
     ]
    }
   ],
   "source": [
    "import sys\n",
    "\n",
    "if sys.version_info >= (3, 11):\n",
    "    print('You are running: Python 3.11 or higher')\n",
    "else:\n",
    "    print('Your version of Python is outdated...')"
   ]
  },
  {
   "cell_type": "code",
   "execution_count": 8,
   "metadata": {},
   "outputs": [
    {
     "name": "stdout",
     "output_type": "stream",
     "text": [
      "The Zen of Python, by Tim Peters\n",
      "\n",
      "Beautiful is better than ugly.\n",
      "Explicit is better than implicit.\n",
      "Simple is better than complex.\n",
      "Complex is better than complicated.\n",
      "Flat is better than nested.\n",
      "Sparse is better than dense.\n",
      "Readability counts.\n",
      "Special cases aren't special enough to break the rules.\n",
      "Although practicality beats purity.\n",
      "Errors should never pass silently.\n",
      "Unless explicitly silenced.\n",
      "In the face of ambiguity, refuse the temptation to guess.\n",
      "There should be one-- and preferably only one --obvious way to do it.\n",
      "Although that way may not be obvious at first unless you're Dutch.\n",
      "Now is better than never.\n",
      "Although never is often better than *right* now.\n",
      "If the implementation is hard to explain, it's a bad idea.\n",
      "If the implementation is easy to explain, it may be a good idea.\n",
      "Namespaces are one honking great idea -- let's do more of those!\n"
     ]
    }
   ],
   "source": [
    "import this"
   ]
  },
  {
   "cell_type": "code",
   "execution_count": 10,
   "metadata": {},
   "outputs": [
    {
     "name": "stdout",
     "output_type": "stream",
     "text": [
      "30hello\n"
     ]
    }
   ],
   "source": [
    "source: str = 'str(10 + 10 * 2) + \"hello\"'\n",
    "\n",
    "result: str = eval(source)\n",
    "\n",
    "print(result)"
   ]
  },
  {
   "cell_type": "code",
   "execution_count": 14,
   "metadata": {},
   "outputs": [
    {
     "name": "stdout",
     "output_type": "stream",
     "text": [
      "code:1 + 1 -> result:2\n"
     ]
    }
   ],
   "source": [
    "user_input: str = input('Enter: ')\n",
    "\n",
    "print(f'code:{user_input} -> result:{eval(user_input)}')"
   ]
  },
  {
   "cell_type": "code",
   "execution_count": 15,
   "metadata": {},
   "outputs": [
    {
     "name": "stdout",
     "output_type": "stream",
     "text": [
      "exec():\n",
      "21-0\n",
      "21-1\n",
      "21-2\n"
     ]
    }
   ],
   "source": [
    "source: str = \"\"\"\n",
    "print('exec():')\n",
    "x = 10\n",
    "y = 11\n",
    "\n",
    "for i in range(3):\n",
    "    print(x + y, i, sep='-')\n",
    "\"\"\"\n",
    "\n",
    "exec(source)"
   ]
  },
  {
   "cell_type": "code",
   "execution_count": 16,
   "metadata": {},
   "outputs": [],
   "source": [
    "sample_tuple = (1, 2, 3, 4, 5)\n",
    "a, *_, b = sample_tuple"
   ]
  },
  {
   "cell_type": "code",
   "execution_count": null,
   "metadata": {},
   "outputs": [],
   "source": []
  }
 ],
 "metadata": {
  "kernelspec": {
   "display_name": "base",
   "language": "python",
   "name": "python3"
  },
  "language_info": {
   "codemirror_mode": {
    "name": "ipython",
    "version": 3
   },
   "file_extension": ".py",
   "mimetype": "text/x-python",
   "name": "python",
   "nbconvert_exporter": "python",
   "pygments_lexer": "ipython3",
   "version": "3.10.9"
  }
 },
 "nbformat": 4,
 "nbformat_minor": 2
}
