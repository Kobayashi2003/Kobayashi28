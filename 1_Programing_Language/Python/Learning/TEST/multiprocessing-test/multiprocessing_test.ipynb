{
 "cells": [
  {
   "cell_type": "code",
   "execution_count": 1,
   "metadata": {},
   "outputs": [
    {
     "name": "stdout",
     "output_type": "stream",
     "text": [
      "Writing multiprocessing_test.py\n"
     ]
    }
   ],
   "source": [
    "%%writefile multiprocessing_test.py\n",
    "from multiprocessing import Pool\n",
    "\n",
    "def f(x):\n",
    "    return x*x\n",
    "\n",
    "if __name__ == '__main__':\n",
    "    with Pool(5) as p:\n",
    "        print(p.map(f, [1, 2, 3]))"
   ]
  },
  {
   "cell_type": "code",
   "execution_count": 2,
   "metadata": {},
   "outputs": [
    {
     "name": "stdout",
     "output_type": "stream",
     "text": [
      "[1, 4, 9]\n"
     ]
    }
   ],
   "source": [
    "%run multiprocessing_test.py"
   ]
  },
  {
   "cell_type": "code",
   "execution_count": 6,
   "metadata": {},
   "outputs": [
    {
     "name": "stdout",
     "output_type": "stream",
     "text": [
      "Overwriting multiprocessing_test.py\n"
     ]
    }
   ],
   "source": [
    "%%writefile multiprocessing_test.py\n",
    "from multiprocessing import Process\n",
    "\n",
    "def f(name):\n",
    "    print('hello', name)\n",
    "\n",
    "if __name__ == '__main__':\n",
    "    p = Process(target=f, args=('bob',))\n",
    "    p.start()\n",
    "    p.join()"
   ]
  },
  {
   "cell_type": "code",
   "execution_count": 7,
   "metadata": {},
   "outputs": [
    {
     "name": "stdout",
     "output_type": "stream",
     "text": [
      "Overwriting multiprocessing_test.py\n"
     ]
    }
   ],
   "source": [
    "%%writefile multiprocessing_test.py\n",
    "from multiprocessing import Process\n",
    "import os\n",
    "\n",
    "def info(title):\n",
    "    print(title)\n",
    "    print('module name:', __name__)\n",
    "    print('parent process:', os.getppid())\n",
    "    print('process id:', os.getpid())\n",
    "\n",
    "def f(name):\n",
    "    info('function f')\n",
    "    print('hello', name)\n",
    "\n",
    "if __name__ == '__main__':\n",
    "    info('main line')\n",
    "    p = Process(target=f, args=('bob',))\n",
    "    p.start()\n",
    "    p.join()"
   ]
  },
  {
   "cell_type": "code",
   "execution_count": 9,
   "metadata": {},
   "outputs": [
    {
     "name": "stdout",
     "output_type": "stream",
     "text": [
      "Overwriting multiprocessing_test.py\n"
     ]
    }
   ],
   "source": [
    "%%writefile multiprocessing_test.py\n",
    "import multiprocessing as mp\n",
    "\n",
    "def foo(q):\n",
    "    q.put('hello')\n",
    "\n",
    "if __name__ == '__main__':\n",
    "    mp.set_start_method('spawn')\n",
    "    q = mp.Queue()\n",
    "    p = mp.Process(target=foo, args=(q,))\n",
    "    p.start()\n",
    "    print(q.get())\n",
    "    p.join()"
   ]
  },
  {
   "cell_type": "code",
   "execution_count": 11,
   "metadata": {},
   "outputs": [
    {
     "name": "stdout",
     "output_type": "stream",
     "text": [
      "Overwriting multiprocessing_test.py\n"
     ]
    }
   ],
   "source": [
    "%%writefile multiprocessing_test.py\n",
    "import multiprocessing as mp\n",
    "\n",
    "def foo(q):\n",
    "    q.put('hello')\n",
    "\n",
    "if __name__ == '__main__':\n",
    "    ctx = mp.get_context('spawn')\n",
    "    q = ctx.Queue()\n",
    "    p = ctx.Process(target=foo, args=(q,))\n",
    "    p.start()\n",
    "    print(q.get())\n",
    "    p.join()\n"
   ]
  },
  {
   "cell_type": "code",
   "execution_count": 1,
   "metadata": {},
   "outputs": [
    {
     "name": "stdout",
     "output_type": "stream",
     "text": [
      "Overwriting multiprocessing_test.py\n"
     ]
    }
   ],
   "source": [
    "%%writefile multiprocessing_test.py\n",
    "from multiprocessing import Process, Queue\n",
    "\n",
    "def f(q):\n",
    "    q.put([42, None, 'hello'])\n",
    "\n",
    "if __name__ == '__main__':\n",
    "    q = Queue()\n",
    "    p = Process(target=f, args=(q,))\n",
    "    p.start()\n",
    "    print(q.get())    # prints \"[42, None, 'hello']\"\n",
    "    p.join()"
   ]
  },
  {
   "cell_type": "code",
   "execution_count": 2,
   "metadata": {},
   "outputs": [
    {
     "name": "stdout",
     "output_type": "stream",
     "text": [
      "Overwriting multiprocessing_test.py\n"
     ]
    }
   ],
   "source": [
    "%%writefile multiprocessing_test.py\n",
    "from multiprocessing import Process, Pipe\n",
    "\n",
    "def f(conn):\n",
    "    conn.send([42, None, 'hello'])\n",
    "    conn.close()\n",
    "\n",
    "if __name__ == '__main__':\n",
    "    parent_conn, child_conn = Pipe()\n",
    "    p = Process(target=f, args=(child_conn,))\n",
    "    p.start()\n",
    "    print(parent_conn.recv())   # prints \"[42, None, 'hello']\"\n",
    "    p.join()"
   ]
  },
  {
   "cell_type": "code",
   "execution_count": 3,
   "metadata": {},
   "outputs": [
    {
     "name": "stdout",
     "output_type": "stream",
     "text": [
      "Overwriting multiprocessing_test.py\n"
     ]
    }
   ],
   "source": [
    "%%writefile multiprocessing_test.py\n",
    "from multiprocessing import Process, Lock\n",
    "\n",
    "def f(l, i):\n",
    "    l.acquire()\n",
    "    try:\n",
    "        print('hello world', i)\n",
    "    finally:\n",
    "        l.release()\n",
    "\n",
    "if __name__ == '__main__':\n",
    "    lock = Lock()\n",
    "\n",
    "    for num in range(10):\n",
    "        Process(target=f, args=(lock, num)).start()"
   ]
  },
  {
   "cell_type": "code",
   "execution_count": 4,
   "metadata": {},
   "outputs": [
    {
     "name": "stdout",
     "output_type": "stream",
     "text": [
      "Overwriting multiprocessing_test.py\n"
     ]
    }
   ],
   "source": [
    "%%writefile multiprocessing_test.py\n",
    "from multiprocessing import Process, Value, Array\n",
    "\n",
    "def f(n, a):\n",
    "    n.value = 3.1415927\n",
    "    for i in range(len(a)):\n",
    "        a[i] = -a[i]\n",
    "\n",
    "if __name__ == '__main__':\n",
    "    num  = Value('d', 0.0)\n",
    "    arr = Array('i', range(10))\n",
    "\n",
    "    p = Process(target=f, args=(num, arr))\n",
    "    p.start()\n",
    "    p.join()\n",
    "\n",
    "    print(num.value)\n",
    "    print(arr[:])"
   ]
  },
  {
   "cell_type": "code",
   "execution_count": null,
   "metadata": {},
   "outputs": [],
   "source": [
    "%%writefile multiprocessing_test.py\n",
    "from multiprocessing import Process, Manager\n",
    "from time import sleep\n",
    "\n",
    "def func(id, d):\n",
    "    print('id: {}, d: {}'.format(id, d))\n",
    "    sleep(3)\n",
    "    d[id] = id\n",
    "    print('id: {}, d: {}'.format(id, d))\n",
    "\n",
    "def main():\n",
    "    manager = Manager()\n",
    "    d = manager.dict()\n",
    "    p1 = Process(target=func, args=(1, d))\n",
    "    p2 = Process(target=func, args=(2, d))\n",
    "    p1.start()\n",
    "    p2.start()\n",
    "    p1.join()\n",
    "    p2.join()\n",
    "    print(d)\n",
    "\n",
    "if __name__ == '__main__':\n",
    "    main()"
   ]
  },
  {
   "cell_type": "code",
   "execution_count": null,
   "metadata": {},
   "outputs": [],
   "source": [
    "%%writefile multiprocessing_test.py\n",
    "from multiprocessing import Process, Manager\n",
    "from time import sleep\n",
    "\n",
    "# try SyncManager.Condition, consumer and producer\n",
    "\n",
    "def consumer(cond, id):\n",
    "    \"\"\"wait for the condition and use the resource\"\"\"\n",
    "    with cond:\n",
    "        cond.wait()\n",
    "        print('Consumer {} is consuming'.format(id))\n",
    "\n",
    "def producer(cond, id):\n",
    "    \"\"\"set up the resource to be used by the consumer\"\"\"\n",
    "    with cond:\n",
    "        print('Producer {} is producing'.format(id))\n",
    "        cond.notify_all()\n",
    "\n",
    "if __name__ == '__main__':\n",
    "    manager = Manager()\n",
    "    condition = manager.Condition()\n",
    "    p1 = Process(target=producer, args=(condition, 1))\n",
    "    p2 = Process(target=producer, args=(condition, 2))\n",
    "    c1 = Process(target=consumer, args=(condition, 1))\n",
    "    c2 = Process(target=consumer, args=(condition, 2))\n",
    "    c3 = Process(target=consumer, args=(condition, 3))\n",
    "\n",
    "    c1.start()\n",
    "    sleep(1)\n",
    "    c2.start()\n",
    "    sleep(1)\n",
    "    c3.start()\n",
    "    sleep(1)\n",
    "    p1.start()\n",
    "    sleep(1)\n",
    "    p2.start()\n",
    "    sleep(1)\n",
    "\n",
    "    c1.join()\n",
    "    c2.join()\n",
    "    c3.join()\n",
    "    p1.join()\n",
    "    p2.join()\n",
    "    print('All processes done')\n",
    "\n",
    "\n"
   ]
  },
  {
   "cell_type": "code",
   "execution_count": null,
   "metadata": {},
   "outputs": [],
   "source": [
    "%% writefile multiprocessing_test.py\n",
    "from multiprocessing import Process, Pool\n",
    "import time\n",
    "\n",
    "# show me hao to use the pool to organize the processes\n",
    "\n",
    "def f(x):\n",
    "    return x*x\n",
    "\n",
    "if __name__ == '__main__':\n",
    "    with Pool(processes=4) as pool:        # start 4 worker processes\n",
    "        result = pool.apply_async(f, (10,)) # evaluate \"f(10)\" asynchronously in a single process\n",
    "        print(result.get(timeout=1))        # prints \"100\" unless your computer is *very* slow\n",
    "\n",
    "        print(pool.map(f, range(10)))       # prints \"[0, 1, 4,..., 81]\"\n",
    "\n",
    "        it = pool.imap(f, range(10))\n",
    "        print(next(it))                     # prints \"0\"\n",
    "        print(next(it))                     # prints \"1\"\n",
    "        print(it.next(timeout=1))           # prints \"4\" unless your computer is *very* slow\n",
    "\n",
    "        result = pool.apply_async(time.sleep, (10,))\n",
    "        print(result.get(timeout=1))        # raises multiprocessing.TimeoutError"
   ]
  }
 ],
 "metadata": {
  "kernelspec": {
   "display_name": "base",
   "language": "python",
   "name": "python3"
  },
  "language_info": {
   "codemirror_mode": {
    "name": "ipython",
    "version": 3
   },
   "file_extension": ".py",
   "mimetype": "text/x-python",
   "name": "python",
   "nbconvert_exporter": "python",
   "pygments_lexer": "ipython3",
   "version": "3.10.9"
  },
  "orig_nbformat": 4
 },
 "nbformat": 4,
 "nbformat_minor": 2
}
