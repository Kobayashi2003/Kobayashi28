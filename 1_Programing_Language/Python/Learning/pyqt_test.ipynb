{
 "cells": [
  {
   "cell_type": "markdown",
   "metadata": {},
   "source": [
    "# 日期和时间"
   ]
  },
  {
   "cell_type": "code",
   "execution_count": 2,
   "metadata": {},
   "outputs": [
    {
     "name": "stdout",
     "output_type": "stream",
     "text": [
      "6.6.1\n",
      "6.6.1\n"
     ]
    }
   ],
   "source": [
    "from PyQt6.QtCore import QT_VERSION_STR\n",
    "from PyQt6.QtCore import PYQT_VERSION_STR\n",
    "\n",
    "print(QT_VERSION_STR)\n",
    "print(PYQT_VERSION_STR)"
   ]
  },
  {
   "cell_type": "code",
   "execution_count": 3,
   "metadata": {},
   "outputs": [
    {
     "name": "stdout",
     "output_type": "stream",
     "text": [
      "2024-04-13\n",
      "13 Apr 2024\n",
      "Sat Apr 13 20:22:04 2024\n",
      "20:22:04\n"
     ]
    }
   ],
   "source": [
    "from PyQt6.QtCore import QDate, QTime, QDateTime, Qt\n",
    "\n",
    "now = QDate.currentDate() # get current date\n",
    "\n",
    "print(now.toString(Qt.DateFormat.ISODate))\n",
    "print(now.toString(Qt.DateFormat.RFC2822Date))\n",
    "\n",
    "datetime = QDateTime.currentDateTime() # get current date and time\n",
    "\n",
    "print(datetime.toString())\n",
    "\n",
    "time = QTime.currentTime()\n",
    "print(time.toString(Qt.DateFormat.ISODate))"
   ]
  },
  {
   "cell_type": "code",
   "execution_count": 5,
   "metadata": {},
   "outputs": [
    {
     "name": "stdout",
     "output_type": "stream",
     "text": [
      "Local datetime:  2024-04-13T20:25:21\n",
      "Universal datetime:  2024-04-13T12:25:21Z\n",
      "The offset from UTC is: 28800 seconds\n",
      "Local datetime:  2024-04-13T20:25:21\n"
     ]
    }
   ],
   "source": [
    "from PyQt6.QtCore import QDateTime, Qt\n",
    "\n",
    "now = QDateTime.currentDateTime()\n",
    "\n",
    "print('Local datetime: ', now.toString(Qt.DateFormat.ISODate))\n",
    "print('Universal datetime: ', now.toUTC().toString(Qt.DateFormat.ISODate))\n",
    "\n",
    "print(f'The offset from UTC is: {now.offsetFromUtc()} seconds')\n",
    "\n",
    "print('Local datetime: ', now.toString(Qt.DateFormat.ISODate))"
   ]
  },
  {
   "cell_type": "code",
   "execution_count": 6,
   "metadata": {},
   "outputs": [
    {
     "name": "stdout",
     "output_type": "stream",
     "text": [
      "Days in month: 31\n",
      "Days in year: 365\n"
     ]
    }
   ],
   "source": [
    "from PyQt6.QtCore import QDate\n",
    "\n",
    "now = QDate.currentDate()\n",
    "\n",
    "d = QDate(1945, 5, 7)\n",
    "\n",
    "print(f'Days in month: {d.daysInMonth()}')\n",
    "print(f'Days in year: {d.daysInYear()}')"
   ]
  },
  {
   "cell_type": "code",
   "execution_count": 7,
   "metadata": {},
   "outputs": [
    {
     "name": "stdout",
     "output_type": "stream",
     "text": [
      "today is 2024-04-13\n",
      "110 days have passed since last XMas\n",
      "There are 256 days until next XMas\n"
     ]
    }
   ],
   "source": [
    "from PyQt6.QtCore import QDate, Qt\n",
    "\n",
    "now = QDate.currentDate()\n",
    "y = now.year()\n",
    "\n",
    "print(f'today is {now.toString(Qt.DateFormat.ISODate)}')\n",
    "\n",
    "xmas1 = QDate(y-1, 12, 25)\n",
    "xmas2 = QDate(y, 12, 25)\n",
    "\n",
    "dayspassed = xmas1.daysTo(now)\n",
    "print(f'{dayspassed} days have passed since last XMas')\n",
    "\n",
    "nofdays = now.daysTo(xmas2)\n",
    "print(f'There are {nofdays} days until next XMas')\n"
   ]
  },
  {
   "cell_type": "code",
   "execution_count": 9,
   "metadata": {},
   "outputs": [
    {
     "name": "stdout",
     "output_type": "stream",
     "text": [
      "Today: 2024-04-13T20:27:16\n",
      "Adding 12 days: 2024-04-25T20:27:16\n",
      "Subtracting 22 days: 2024-03-22T20:27:16\n",
      "Adding 50 seconds: 2024-04-13T20:28:06\n",
      "Adding 3 months: 2024-07-13T20:27:16\n",
      "Adding 12 years: 2036-04-13T20:27:16\n"
     ]
    }
   ],
   "source": [
    "from PyQt6.QtCore import QDateTime, Qt\n",
    "\n",
    "now = QDateTime.currentDateTime()\n",
    "\n",
    "print(f'Today: {now.toString(Qt.DateFormat.ISODate)}')\n",
    "print(f'Adding 12 days: {now.addDays(12).toString(Qt.DateFormat.ISODate)}')\n",
    "print(f'Subtracting 22 days: {now.addDays(-22).toString(Qt.DateFormat.ISODate)}')\n",
    "\n",
    "print(f'Adding 50 seconds: {now.addSecs(50).toString(Qt.DateFormat.ISODate)}')\n",
    "print(f'Adding 3 months: {now.addMonths(3).toString(Qt.DateFormat.ISODate)}')\n",
    "print(f'Adding 12 years: {now.addYears(12).toString(Qt.DateFormat.ISODate)}')"
   ]
  },
  {
   "cell_type": "code",
   "execution_count": 10,
   "metadata": {},
   "outputs": [
    {
     "name": "stdout",
     "output_type": "stream",
     "text": [
      "Time zone: 中国标准时间\n",
      "The current date does not fall into DST time\n"
     ]
    }
   ],
   "source": [
    "from PyQt6.QtCore import QDateTime, QTimeZone, Qt\n",
    "\n",
    "now = QDateTime.currentDateTime()\n",
    "\n",
    "print(f'Time zone: {now.timeZoneAbbreviation()}')\n",
    "\n",
    "if now.isDaylightTime():\n",
    "    print('The current date falls into DST time')\n",
    "else:\n",
    "    print('The current date does not fall into DST time')"
   ]
  },
  {
   "cell_type": "code",
   "execution_count": 11,
   "metadata": {},
   "outputs": [
    {
     "name": "stdout",
     "output_type": "stream",
     "text": [
      "1713011296\n",
      "2024-04-13T20:28:16\n"
     ]
    }
   ],
   "source": [
    "from PyQt6.QtCore import QDateTime, Qt\n",
    "\n",
    "now = QDateTime.currentDateTime()\n",
    "\n",
    "unix_time = now.toSecsSinceEpoch() \n",
    "print(unix_time)\n",
    "\n",
    "d = QDateTime.fromSecsSinceEpoch(unix_time)\n",
    "print(d.toString(Qt.DateFormat.ISODate))"
   ]
  },
  {
   "cell_type": "code",
   "execution_count": 12,
   "metadata": {},
   "outputs": [
    {
     "name": "stdout",
     "output_type": "stream",
     "text": [
      "Gregorian date for today: 2024-04-13\n",
      "Julian day for today: 2460414\n"
     ]
    }
   ],
   "source": [
    "from PyQt6.QtCore import QDate, Qt\n",
    "\n",
    "now = QDate.currentDate()\n",
    "\n",
    "print('Gregorian date for today:', now.toString(Qt.DateFormat.ISODate))\n",
    "print('Julian day for today:', now.toJulianDay())"
   ]
  },
  {
   "cell_type": "markdown",
   "metadata": {},
   "source": [
    "# PyQt6 的第一个程序"
   ]
  },
  {
   "cell_type": "code",
   "execution_count": 15,
   "metadata": {},
   "outputs": [
    {
     "ename": "SystemExit",
     "evalue": "0",
     "output_type": "error",
     "traceback": [
      "An exception has occurred, use %tb to see the full traceback.\n",
      "\u001b[1;31mSystemExit\u001b[0m\u001b[1;31m:\u001b[0m 0\n"
     ]
    }
   ],
   "source": [
    "\"\"\"\n",
    "ZetCode PyQt6 tutorial\n",
    "\n",
    "In this example, we create a simple\n",
    "window in PyQt6.\n",
    "\n",
    "Author: Jan Bodnar\n",
    "Website: zetcode.com\n",
    "\"\"\"\n",
    "\n",
    "\n",
    "import sys\n",
    "from PyQt6.QtWidgets import QApplication, QWidget\n",
    "\n",
    "def main():\n",
    "\n",
    "    app = QApplication(sys.argv)\n",
    "\n",
    "    w = QWidget()\n",
    "    w.resize(250, 200)\n",
    "    w.move(300, 300)\n",
    "\n",
    "    w.setWindowTitle('Simple')\n",
    "    w.show()\n",
    "\n",
    "    sys.exit(app.exec())\n",
    "\n",
    "\n",
    "if __name__ == '__main__':\n",
    "    main()"
   ]
  },
  {
   "cell_type": "code",
   "execution_count": 1,
   "metadata": {},
   "outputs": [
    {
     "ename": "SystemExit",
     "evalue": "0",
     "output_type": "error",
     "traceback": [
      "An exception has occurred, use %tb to see the full traceback.\n",
      "\u001b[1;31mSystemExit\u001b[0m\u001b[1;31m:\u001b[0m 0\n"
     ]
    },
    {
     "name": "stderr",
     "output_type": "stream",
     "text": [
      "d:\\Program\\anaconda3\\envs\\pyqt\\lib\\site-packages\\IPython\\core\\interactiveshell.py:3513: UserWarning: To exit: use 'exit', 'quit', or Ctrl-D.\n",
      "  warn(\"To exit: use 'exit', 'quit', or Ctrl-D.\", stacklevel=1)\n"
     ]
    }
   ],
   "source": [
    "#!/usr/bin/python\n",
    "# file: tooltip.py\n",
    "\n",
    "\"\"\"\n",
    "ZetCode PyQt6 tutorial\n",
    "\n",
    "This example shows a tooltip on\n",
    "a window and a button.\n",
    "\n",
    "Author: Jan Bodnar\n",
    "Website: zetcode.com\n",
    "\"\"\"\n",
    "\n",
    "import sys\n",
    "from PyQt6.QtWidgets import (QWidget, QToolTip,\n",
    "    QPushButton, QApplication)\n",
    "from PyQt6.QtGui import QFont\n",
    "\n",
    "\n",
    "class Example(QWidget):\n",
    "\n",
    "    def __init__(self):\n",
    "        super().__init__()\n",
    "\n",
    "        self.initUI()\n",
    "\n",
    "\n",
    "    def initUI(self):\n",
    "\n",
    "        QToolTip.setFont(QFont('SansSerif', 10))\n",
    "\n",
    "        self.setToolTip('This is a <b>QWidget</b> widget')\n",
    "\n",
    "        btn = QPushButton('Button', self)\n",
    "        btn.setToolTip('This is a <b>QPushButton</b> widget')\n",
    "        btn.resize(btn.sizeHint())\n",
    "        btn.move(50, 50)\n",
    "\n",
    "        self.setGeometry(300, 300, 300, 200)\n",
    "        self.setWindowTitle('Tooltips')\n",
    "        self.show()\n",
    "\n",
    "\n",
    "def main():\n",
    "\n",
    "    app = QApplication(sys.argv)\n",
    "    ex = Example()\n",
    "    sys.exit(app.exec())\n",
    "\n",
    "\n",
    "if __name__ == '__main__':\n",
    "    main()"
   ]
  },
  {
   "cell_type": "code",
   "execution_count": null,
   "metadata": {},
   "outputs": [],
   "source": []
  }
 ],
 "metadata": {
  "kernelspec": {
   "display_name": "pyqt",
   "language": "python",
   "name": "python3"
  },
  "language_info": {
   "codemirror_mode": {
    "name": "ipython",
    "version": 3
   },
   "file_extension": ".py",
   "mimetype": "text/x-python",
   "name": "python",
   "nbconvert_exporter": "python",
   "pygments_lexer": "ipython3",
   "version": "3.9.19"
  }
 },
 "nbformat": 4,
 "nbformat_minor": 2
}
