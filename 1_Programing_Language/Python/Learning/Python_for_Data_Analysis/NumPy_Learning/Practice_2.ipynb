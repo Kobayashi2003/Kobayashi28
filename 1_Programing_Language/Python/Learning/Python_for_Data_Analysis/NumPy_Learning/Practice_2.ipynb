{
 "cells": [
  {
   "cell_type": "code",
   "execution_count": 2,
   "metadata": {},
   "outputs": [],
   "source": [
    "import numpy as np"
   ]
  },
  {
   "cell_type": "code",
   "execution_count": 3,
   "metadata": {},
   "outputs": [
    {
     "name": "stdout",
     "output_type": "stream",
     "text": [
      "ALLOW_THREADS AxisError BUFSIZE CLIP ComplexWarning \n",
      "DataSource ERR_CALL ERR_DEFAULT ERR_IGNORE ERR_LOG \n",
      "ERR_PRINT ERR_RAISE ERR_WARN FLOATING_POINT_SUPPORT FPE_DIVIDEBYZERO \n",
      "FPE_INVALID FPE_OVERFLOW FPE_UNDERFLOW False_ Inf \n",
      "Infinity MAXDIMS MAY_SHARE_BOUNDS MAY_SHARE_EXACT ModuleDeprecationWarning \n",
      "NAN NINF NZERO NaN PINF \n",
      "PZERO RAISE RankWarning SHIFT_DIVIDEBYZERO SHIFT_INVALID \n",
      "SHIFT_OVERFLOW SHIFT_UNDERFLOW ScalarType Tester TooHardError \n",
      "True_ UFUNC_BUFSIZE_DEFAULT UFUNC_PYVALS_NAME VisibleDeprecationWarning WRAP \n",
      "_CopyMode _NoValue _UFUNC_API __NUMPY_SETUP__ __all__ \n",
      "__builtins__ __cached__ __config__ __deprecated_attrs__ __dir__ \n",
      "__doc__ __expired_functions__ __file__ __getattr__ __git_version__ \n",
      "__loader__ __name__ __package__ __path__ __spec__ \n",
      "__version__ _add_newdoc_ufunc _distributor_init _financial_names _globals \n",
      "_mat _pyinstaller_hooks_dir _pytesttester _version abs \n",
      "absolute add add_docstring add_newdoc add_newdoc_ufunc \n",
      "all allclose alltrue amax amin \n",
      "angle any append apply_along_axis apply_over_axes \n",
      "arange arccos arccosh arcsin arcsinh \n",
      "arctan arctan2 arctanh argmax argmin \n",
      "argpartition argsort argwhere around array \n",
      "array2string array_equal array_equiv array_repr array_split \n",
      "array_str asanyarray asarray asarray_chkfinite ascontiguousarray \n",
      "asfarray asfortranarray asmatrix atleast_1d atleast_2d \n",
      "atleast_3d average bartlett base_repr binary_repr \n",
      "bincount bitwise_and bitwise_not bitwise_or bitwise_xor \n",
      "blackman block bmat bool8 bool_ \n",
      "broadcast broadcast_arrays broadcast_shapes broadcast_to busday_count \n",
      "busday_offset busdaycalendar byte byte_bounds bytes0 \n",
      "bytes_ c_ can_cast cast cbrt \n",
      "cdouble ceil cfloat char character \n",
      "chararray choose clip clongdouble clongfloat \n",
      "column_stack common_type compare_chararrays compat complex128 \n",
      "complex64 complex_ complexfloating compress concatenate \n",
      "conj conjugate convolve copy copysign \n",
      "copyto core corrcoef correlate cos \n",
      "cosh count_nonzero cov cross csingle \n",
      "ctypeslib cumprod cumproduct cumsum datetime64 \n",
      "datetime_as_string datetime_data deg2rad degrees delete \n",
      "deprecate deprecate_with_doc diag diag_indices diag_indices_from \n",
      "diagflat diagonal diff digitize disp \n",
      "divide divmod dot double dsplit \n",
      "dstack dtype e ediff1d einsum \n",
      "einsum_path emath empty empty_like equal \n",
      "errstate euler_gamma exp exp2 expand_dims \n",
      "expm1 extract eye fabs fastCopyAndTranspose \n",
      "fft fill_diagonal find_common_type finfo fix \n",
      "flatiter flatnonzero flexible flip fliplr \n",
      "flipud float16 float32 float64 float_ \n",
      "float_power floating floor floor_divide fmax \n",
      "fmin fmod format_float_positional format_float_scientific format_parser \n",
      "frexp from_dlpack frombuffer fromfile fromfunction \n",
      "fromiter frompyfunc fromregex fromstring full \n",
      "full_like gcd generic genfromtxt geomspace \n",
      "get_array_wrap get_include get_printoptions getbufsize geterr \n",
      "geterrcall geterrobj gradient greater greater_equal \n",
      "half hamming hanning heaviside histogram \n",
      "histogram2d histogram_bin_edges histogramdd hsplit hstack \n",
      "hypot i0 identity iinfo imag \n",
      "in1d index_exp indices inexact inf \n",
      "info infty inner insert int0 \n",
      "int16 int32 int64 int8 int_ \n",
      "intc integer interp intersect1d intp \n",
      "invert is_busday isclose iscomplex iscomplexobj \n",
      "isfinite isfortran isin isinf isnan \n",
      "isnat isneginf isposinf isreal isrealobj \n",
      "isscalar issctype issubclass_ issubdtype issubsctype \n",
      "iterable ix_ kaiser kron lcm \n",
      "ldexp left_shift less less_equal lexsort \n",
      "lib linalg linspace little_endian load \n",
      "loadtxt log log10 log1p log2 \n",
      "logaddexp logaddexp2 logical_and logical_not logical_or \n",
      "logical_xor logspace longcomplex longdouble longfloat \n",
      "longlong lookfor ma mask_indices mat \n",
      "math matmul matrix matrixlib max \n",
      "maximum maximum_sctype may_share_memory mean median \n",
      "memmap meshgrid mgrid min min_scalar_type \n",
      "minimum mintypecode mod modf moveaxis \n",
      "msort multiply nan nan_to_num nanargmax \n",
      "nanargmin nancumprod nancumsum nanmax nanmean \n",
      "nanmedian nanmin nanpercentile nanprod nanquantile \n",
      "nanstd nansum nanvar nbytes ndarray \n",
      "ndenumerate ndim ndindex nditer negative \n",
      "nested_iters newaxis nextafter nonzero not_equal \n",
      "numarray number obj2sctype object0 object_ \n",
      "ogrid oldnumeric ones ones_like os \n",
      "outer packbits pad partition percentile \n",
      "pi piecewise place poly poly1d \n",
      "polyadd polyder polydiv polyfit polyint \n",
      "polymul polynomial polysub polyval positive \n",
      "power printoptions prod product promote_types \n",
      "ptp put put_along_axis putmask quantile \n",
      "r_ rad2deg radians random ravel \n",
      "ravel_multi_index real real_if_close rec recarray \n",
      "recfromcsv recfromtxt reciprocal record remainder \n",
      "repeat require reshape resize result_type \n",
      "right_shift rint roll rollaxis roots \n",
      "rot90 round round_ row_stack s_ \n",
      "safe_eval save savetxt savez savez_compressed \n",
      "sctype2char sctypeDict sctypes searchsorted select \n",
      "set_numeric_ops set_printoptions set_string_function setbufsize setdiff1d \n",
      "seterr seterrcall seterrobj setxor1d shape \n",
      "shares_memory short show_config sign signbit \n",
      "signedinteger sin sinc single singlecomplex \n",
      "sinh size sometrue sort sort_complex \n",
      "source spacing split sqrt square \n",
      "squeeze stack std str0 str_ \n",
      "string_ subtract sum swapaxes sys \n",
      "take take_along_axis tan tanh tensordot \n",
      "test testing tile timedelta64 trace \n",
      "tracemalloc_domain transpose trapz tri tril \n",
      "tril_indices tril_indices_from trim_zeros triu triu_indices \n",
      "triu_indices_from true_divide trunc typecodes typename \n",
      "ubyte ufunc uint uint0 uint16 \n",
      "uint32 uint64 uint8 uintc uintp \n",
      "ulonglong unicode_ union1d unique unpackbits \n",
      "unravel_index unsignedinteger unwrap use_hugepage ushort \n",
      "vander var vdot vectorize version \n",
      "void void0 vsplit vstack warnings \n",
      "where who zeros zeros_like "
     ]
    }
   ],
   "source": [
    "funs = dir(np)\n",
    "i = 0\n",
    "for fun in funs:\n",
    "    print(fun, end=\" \")\n",
    "    i += 1\n",
    "    if i % 5 == 0:\n",
    "        print()\n"
   ]
  },
  {
   "cell_type": "markdown",
   "metadata": {},
   "source": [
    "# 1 创建数组"
   ]
  },
  {
   "cell_type": "markdown",
   "metadata": {},
   "source": [
    "## 1.1 使用Python序列创建数组"
   ]
  },
  {
   "cell_type": "code",
   "execution_count": 4,
   "metadata": {},
   "outputs": [
    {
     "name": "stdout",
     "output_type": "stream",
     "text": [
      "[1 2 3]\n",
      "<class 'numpy.ndarray'>\n"
     ]
    }
   ],
   "source": [
    "lst_a  = [1, 2, 3]\n",
    "arr1 = np.array(lst_a)\n",
    "print(arr1)\n",
    "print(type(arr1))"
   ]
  },
  {
   "cell_type": "code",
   "execution_count": 5,
   "metadata": {},
   "outputs": [
    {
     "name": "stdout",
     "output_type": "stream",
     "text": [
      "{'name': 'kobayashi', 'age': 19}\n",
      "<class 'numpy.ndarray'>\n"
     ]
    }
   ],
   "source": [
    "dic_a = {\n",
    "    \"name\" : \"kobayashi\",\n",
    "    \"age\" : 19,\n",
    "}\n",
    "\n",
    "arr2 = np.array(dic_a)\n",
    "print(arr2)\n",
    "print(type(arr2))"
   ]
  },
  {
   "cell_type": "markdown",
   "metadata": {},
   "source": [
    "## 2 NumPy 自动生成数组"
   ]
  },
  {
   "cell_type": "markdown",
   "metadata": {},
   "source": [
    "1. arange 创建顺序数组\n",
    "2. zeros 创建元素全为 0 的数组\n",
    "3. ones 创建元素全为 1 的数组\n",
    "4. eye 创建对角数组\n",
    "5. random 随机生成数组\n",
    "6. linspace 生成均匀间隔数组"
   ]
  },
  {
   "cell_type": "code",
   "execution_count": 6,
   "metadata": {},
   "outputs": [
    {
     "data": {
      "text/plain": [
       "array([0, 1, 2, 3, 4, 5, 6, 7, 8, 9])"
      ]
     },
     "execution_count": 6,
     "metadata": {},
     "output_type": "execute_result"
    }
   ],
   "source": [
    "# arange 函数\n",
    "arr3 = np.arange(10)\n",
    "arr3"
   ]
  },
  {
   "cell_type": "code",
   "execution_count": 7,
   "metadata": {},
   "outputs": [
    {
     "data": {
      "text/plain": [
       "array([0., 0., 0., 0., 0., 0., 0., 0., 0., 0.])"
      ]
     },
     "execution_count": 7,
     "metadata": {},
     "output_type": "execute_result"
    }
   ],
   "source": [
    "# zeros 函数\n",
    "arr4 = np.zeros(10)\n",
    "arr4"
   ]
  },
  {
   "cell_type": "code",
   "execution_count": 8,
   "metadata": {},
   "outputs": [
    {
     "data": {
      "text/plain": [
       "array([[1., 1., 1.],\n",
       "       [1., 1., 1.]])"
      ]
     },
     "execution_count": 8,
     "metadata": {},
     "output_type": "execute_result"
    }
   ],
   "source": [
    "# ones 函数\n",
    "arr5 = np.ones((2, 3))\n",
    "arr5"
   ]
  },
  {
   "cell_type": "code",
   "execution_count": 9,
   "metadata": {},
   "outputs": [
    {
     "data": {
      "text/plain": [
       "array([[1., 0., 0.],\n",
       "       [0., 1., 0.],\n",
       "       [0., 0., 1.]])"
      ]
     },
     "execution_count": 9,
     "metadata": {},
     "output_type": "execute_result"
    }
   ],
   "source": [
    "# eye 函数\n",
    "arr6 = np.eye(3)\n",
    "arr6"
   ]
  },
  {
   "cell_type": "code",
   "execution_count": 10,
   "metadata": {},
   "outputs": [
    {
     "name": "stdout",
     "output_type": "stream",
     "text": [
      "[[0.94922109 0.0115545  0.07435771]\n",
      " [0.32311869 0.87988144 0.84836357]]\n",
      "[[6 1 1]\n",
      " [4 6 9]]\n",
      "[[6.55078792 5.25637708 1.10558717]\n",
      " [5.6974706  2.60169316 2.94824553]]\n"
     ]
    }
   ],
   "source": [
    "# random 函数\n",
    "\n",
    "# 从 [0, 1) 中随机取值\n",
    "arr7 = np.random.rand(2, 3)\n",
    "print(arr7)\n",
    "\n",
    "# 创建指定区间的随机整数数组\n",
    "arr8 = np.random.randint(1, 10, (2, 3))\n",
    "print(arr8)\n",
    "\n",
    "# 创建指定区间的随机浮点数数组\n",
    "arr9 = np.random.uniform(1, 10, (2, 3))\n",
    "print(arr9)"
   ]
  },
  {
   "cell_type": "code",
   "execution_count": 11,
   "metadata": {},
   "outputs": [
    {
     "data": {
      "text/plain": [
       "array([-1.        , -0.89473684, -0.78947368, -0.68421053, -0.57894737,\n",
       "       -0.47368421, -0.36842105, -0.26315789, -0.15789474, -0.05263158,\n",
       "        0.05263158,  0.15789474,  0.26315789,  0.36842105,  0.47368421,\n",
       "        0.57894737,  0.68421053,  0.78947368,  0.89473684,  1.        ])"
      ]
     },
     "execution_count": 11,
     "metadata": {},
     "output_type": "execute_result"
    }
   ],
   "source": [
    "# linspace 函数\n",
    "\n",
    "# 均匀比例的数组\n",
    "arr10 = np.linspace(-1, 1, 20)\n",
    "arr10"
   ]
  },
  {
   "cell_type": "code",
   "execution_count": 12,
   "metadata": {},
   "outputs": [
    {
     "data": {
      "text/plain": [
       "array([[6.55078792, 5.25637708, 1.10558717],\n",
       "       [5.6974706 , 2.60169316, 2.94824553]])"
      ]
     },
     "execution_count": 12,
     "metadata": {},
     "output_type": "execute_result"
    }
   ],
   "source": [
    "# empty 函数\n",
    "arr11 = np.empty((2, 3))\n",
    "arr11"
   ]
  },
  {
   "cell_type": "markdown",
   "metadata": {},
   "source": [
    "# 2 操作数组的形状和维度"
   ]
  },
  {
   "cell_type": "markdown",
   "metadata": {},
   "source": [
    "## 1 查看数组的维度与形状"
   ]
  },
  {
   "cell_type": "markdown",
   "metadata": {},
   "source": [
    "1. 维度个数 ndim\n",
    "2. 维度大小 shape\n",
    "3. 打乱数组 random.shuffle"
   ]
  },
  {
   "cell_type": "code",
   "execution_count": 13,
   "metadata": {},
   "outputs": [
    {
     "data": {
      "text/plain": [
       "array([ 4,  2,  9, 10, 11,  5,  8,  7, 14,  1,  3, 16, 17, 15, 12, 19,  0,\n",
       "       13, 18,  6])"
      ]
     },
     "execution_count": 13,
     "metadata": {},
     "output_type": "execute_result"
    }
   ],
   "source": [
    "arr = np.arange(20)\n",
    "np.random.shuffle(arr)\n",
    "arr"
   ]
  },
  {
   "cell_type": "markdown",
   "metadata": {},
   "source": [
    "## 2 修改数组的维度与形状"
   ]
  },
  {
   "cell_type": "markdown",
   "metadata": {},
   "source": [
    "1. 修改数组的维度 reshape\n",
    "2. 翻转数组 transpose | T\n",
    "3. 展开为一位数组 flatten() | ravel() | reshape()"
   ]
  },
  {
   "cell_type": "code",
   "execution_count": 14,
   "metadata": {},
   "outputs": [
    {
     "data": {
      "text/plain": [
       "1"
      ]
     },
     "execution_count": 14,
     "metadata": {},
     "output_type": "execute_result"
    }
   ],
   "source": [
    "arr.ndim"
   ]
  },
  {
   "cell_type": "code",
   "execution_count": 15,
   "metadata": {},
   "outputs": [
    {
     "data": {
      "text/plain": [
       "array([[ 4,  2,  9, 10, 11],\n",
       "       [ 5,  8,  7, 14,  1],\n",
       "       [ 3, 16, 17, 15, 12],\n",
       "       [19,  0, 13, 18,  6]])"
      ]
     },
     "execution_count": 15,
     "metadata": {},
     "output_type": "execute_result"
    }
   ],
   "source": [
    "arr2 = arr.reshape(4, 5)\n",
    "arr2"
   ]
  },
  {
   "cell_type": "code",
   "execution_count": 16,
   "metadata": {},
   "outputs": [
    {
     "data": {
      "text/plain": [
       "array([[ 4,  5,  3, 19],\n",
       "       [ 2,  8, 16,  0],\n",
       "       [ 9,  7, 17, 13],\n",
       "       [10, 14, 15, 18],\n",
       "       [11,  1, 12,  6]])"
      ]
     },
     "execution_count": 16,
     "metadata": {},
     "output_type": "execute_result"
    }
   ],
   "source": [
    "arr2.transpose()"
   ]
  },
  {
   "cell_type": "code",
   "execution_count": 17,
   "metadata": {},
   "outputs": [
    {
     "data": {
      "text/plain": [
       "array([ 4,  2,  9, 10, 11,  5,  8,  7, 14,  1,  3, 16, 17, 15, 12, 19,  0,\n",
       "       13, 18,  6])"
      ]
     },
     "execution_count": 17,
     "metadata": {},
     "output_type": "execute_result"
    }
   ],
   "source": [
    "arr2.flatten()"
   ]
  },
  {
   "cell_type": "code",
   "execution_count": 18,
   "metadata": {},
   "outputs": [
    {
     "data": {
      "text/plain": [
       "array([[ 4,  2,  9, 10, 11,  5,  8,  7, 14,  1,  3, 16, 17, 15, 12, 19,\n",
       "         0, 13, 18,  6]])"
      ]
     },
     "execution_count": 18,
     "metadata": {},
     "output_type": "execute_result"
    }
   ],
   "source": [
    "arr2.reshape(1, 20)"
   ]
  },
  {
   "cell_type": "markdown",
   "metadata": {},
   "source": [
    "# 3 数组的拼接与分割"
   ]
  },
  {
   "cell_type": "markdown",
   "metadata": {},
   "source": [
    "## 1 数组拼接"
   ]
  },
  {
   "cell_type": "markdown",
   "metadata": {},
   "source": [
    "1. 横向拼接 hstack\n",
    "2. 纵向拼接 vstack"
   ]
  },
  {
   "cell_type": "code",
   "execution_count": 19,
   "metadata": {},
   "outputs": [
    {
     "data": {
      "text/plain": [
       "array([[ 0,  1,  2,  3,  4],\n",
       "       [ 5,  6,  7,  8,  9],\n",
       "       [10, 11, 12, 13, 14],\n",
       "       [15, 16, 17, 18, 19]])"
      ]
     },
     "execution_count": 19,
     "metadata": {},
     "output_type": "execute_result"
    }
   ],
   "source": [
    "# 横向拼接\n",
    "arr3 = np.arange(20).reshape(4, 5)\n",
    "arr3"
   ]
  },
  {
   "cell_type": "code",
   "execution_count": 20,
   "metadata": {},
   "outputs": [
    {
     "data": {
      "text/plain": [
       "array([[ 4,  2,  9, 10, 11,  0,  1,  2,  3,  4],\n",
       "       [ 5,  8,  7, 14,  1,  5,  6,  7,  8,  9],\n",
       "       [ 3, 16, 17, 15, 12, 10, 11, 12, 13, 14],\n",
       "       [19,  0, 13, 18,  6, 15, 16, 17, 18, 19]])"
      ]
     },
     "execution_count": 20,
     "metadata": {},
     "output_type": "execute_result"
    }
   ],
   "source": [
    "np.hstack((arr2, arr3))"
   ]
  },
  {
   "cell_type": "code",
   "execution_count": 21,
   "metadata": {},
   "outputs": [
    {
     "data": {
      "text/plain": [
       "array([[ 4,  2,  9, 10, 11],\n",
       "       [ 5,  8,  7, 14,  1],\n",
       "       [ 3, 16, 17, 15, 12],\n",
       "       [19,  0, 13, 18,  6],\n",
       "       [ 0,  1,  2,  3,  4],\n",
       "       [ 5,  6,  7,  8,  9],\n",
       "       [10, 11, 12, 13, 14],\n",
       "       [15, 16, 17, 18, 19]])"
      ]
     },
     "execution_count": 21,
     "metadata": {},
     "output_type": "execute_result"
    }
   ],
   "source": [
    "np.vstack((arr2, arr3))"
   ]
  },
  {
   "cell_type": "code",
   "execution_count": 22,
   "metadata": {},
   "outputs": [
    {
     "data": {
      "text/plain": [
       "[array([[ 0],\n",
       "        [ 5],\n",
       "        [10],\n",
       "        [15]]),\n",
       " array([[ 1],\n",
       "        [ 6],\n",
       "        [11],\n",
       "        [16]]),\n",
       " array([[ 2],\n",
       "        [ 7],\n",
       "        [12],\n",
       "        [17]]),\n",
       " array([[ 3],\n",
       "        [ 8],\n",
       "        [13],\n",
       "        [18]]),\n",
       " array([[ 4],\n",
       "        [ 9],\n",
       "        [14],\n",
       "        [19]])]"
      ]
     },
     "execution_count": 22,
     "metadata": {},
     "output_type": "execute_result"
    }
   ],
   "source": [
    "# 水平分割\n",
    "np.hsplit(arr3, 5)"
   ]
  },
  {
   "cell_type": "code",
   "execution_count": 23,
   "metadata": {},
   "outputs": [
    {
     "data": {
      "text/plain": [
       "[array([[ 4,  2,  9, 10, 11],\n",
       "        [ 5,  8,  7, 14,  1]]),\n",
       " array([[ 3, 16, 17, 15, 12],\n",
       "        [19,  0, 13, 18,  6]])]"
      ]
     },
     "execution_count": 23,
     "metadata": {},
     "output_type": "execute_result"
    }
   ],
   "source": [
    "np.vsplit(arr2, 2)"
   ]
  },
  {
   "cell_type": "code",
   "execution_count": 25,
   "metadata": {},
   "outputs": [
    {
     "data": {
      "text/plain": [
       "[array([[ 4,  2,  9, 10, 11],\n",
       "        [ 5,  8,  7, 14,  1]]),\n",
       " array([[ 3, 16, 17, 15, 12]]),\n",
       " array([[19,  0, 13, 18,  6]])]"
      ]
     },
     "execution_count": 25,
     "metadata": {},
     "output_type": "execute_result"
    }
   ],
   "source": [
    "np.array_split(arr2, 3, axis=0)"
   ]
  },
  {
   "cell_type": "code",
   "execution_count": 26,
   "metadata": {},
   "outputs": [
    {
     "data": {
      "text/plain": [
       "[array([[ 4,  2],\n",
       "        [ 5,  8],\n",
       "        [ 3, 16],\n",
       "        [19,  0]]),\n",
       " array([[ 9, 10],\n",
       "        [ 7, 14],\n",
       "        [17, 15],\n",
       "        [13, 18]]),\n",
       " array([[11],\n",
       "        [ 1],\n",
       "        [12],\n",
       "        [ 6]])]"
      ]
     },
     "execution_count": 26,
     "metadata": {},
     "output_type": "execute_result"
    }
   ],
   "source": [
    "np.array_split(arr2, 3, axis=1)"
   ]
  },
  {
   "cell_type": "markdown",
   "metadata": {},
   "source": [
    "# 4 切片与索引"
   ]
  },
  {
   "cell_type": "code",
   "execution_count": 27,
   "metadata": {},
   "outputs": [
    {
     "data": {
      "text/plain": [
       "array([ 4,  2,  9, 10, 11,  5,  8,  7, 14,  1,  3, 16, 17, 15, 12, 19,  0,\n",
       "       13, 18,  6])"
      ]
     },
     "execution_count": 27,
     "metadata": {},
     "output_type": "execute_result"
    }
   ],
   "source": [
    "arr"
   ]
  },
  {
   "cell_type": "code",
   "execution_count": 28,
   "metadata": {},
   "outputs": [
    {
     "data": {
      "text/plain": [
       "array([ 4,  2,  9, 10, 11,  5])"
      ]
     },
     "execution_count": 28,
     "metadata": {},
     "output_type": "execute_result"
    }
   ],
   "source": [
    "arr[0:6]"
   ]
  },
  {
   "cell_type": "code",
   "execution_count": 29,
   "metadata": {},
   "outputs": [
    {
     "data": {
      "text/plain": [
       "array([ 6, 18, 13,  0, 19, 12, 15, 17, 16,  3,  1, 14,  7,  8,  5, 11, 10,\n",
       "        9,  2,  4])"
      ]
     },
     "execution_count": 29,
     "metadata": {},
     "output_type": "execute_result"
    }
   ],
   "source": [
    "arr[::-1]"
   ]
  },
  {
   "cell_type": "markdown",
   "metadata": {},
   "source": [
    "## 布尔索引"
   ]
  },
  {
   "cell_type": "code",
   "execution_count": 30,
   "metadata": {},
   "outputs": [
    {
     "data": {
      "text/plain": [
       "array([False, False,  True,  True,  True, False,  True,  True,  True,\n",
       "       False, False,  True,  True,  True,  True,  True, False,  True,\n",
       "        True,  True])"
      ]
     },
     "execution_count": 30,
     "metadata": {},
     "output_type": "execute_result"
    }
   ],
   "source": [
    "arr > 5"
   ]
  },
  {
   "cell_type": "code",
   "execution_count": 32,
   "metadata": {},
   "outputs": [
    {
     "data": {
      "text/plain": [
       "array([ 9, 10, 11,  8,  7, 14, 16, 17, 15, 12, 19, 13, 18,  6])"
      ]
     },
     "execution_count": 32,
     "metadata": {},
     "output_type": "execute_result"
    }
   ],
   "source": [
    "arr[arr > 5]"
   ]
  },
  {
   "cell_type": "code",
   "execution_count": 33,
   "metadata": {},
   "outputs": [
    {
     "data": {
      "text/plain": [
       "array([[ 4,  2,  9, 10, 11],\n",
       "       [ 5,  8,  7, 14,  1],\n",
       "       [ 3, 16, 17, 15, 12],\n",
       "       [19,  0, 13, 18,  6]])"
      ]
     },
     "execution_count": 33,
     "metadata": {},
     "output_type": "execute_result"
    }
   ],
   "source": [
    "arr2"
   ]
  },
  {
   "cell_type": "code",
   "execution_count": 36,
   "metadata": {},
   "outputs": [
    {
     "data": {
      "text/plain": [
       "array([[ 7, 14,  1],\n",
       "       [17, 15, 12],\n",
       "       [13, 18,  6]])"
      ]
     },
     "execution_count": 36,
     "metadata": {},
     "output_type": "execute_result"
    }
   ],
   "source": [
    "arr2[1:, 2:]"
   ]
  },
  {
   "cell_type": "code",
   "execution_count": 44,
   "metadata": {},
   "outputs": [
    {
     "data": {
      "text/plain": [
       "array([[ 9, 10],\n",
       "       [ 7, 14]])"
      ]
     },
     "execution_count": 44,
     "metadata": {},
     "output_type": "execute_result"
    }
   ],
   "source": [
    "arr2[0:2, 2 : 4]"
   ]
  },
  {
   "cell_type": "code",
   "execution_count": 45,
   "metadata": {},
   "outputs": [
    {
     "data": {
      "text/plain": [
       "array([ 9, 10, 11,  8,  7, 14, 16, 17, 15, 12, 19, 13, 18,  6])"
      ]
     },
     "execution_count": 45,
     "metadata": {},
     "output_type": "execute_result"
    }
   ],
   "source": [
    "arr2[arr2 > 5]"
   ]
  },
  {
   "cell_type": "markdown",
   "metadata": {},
   "source": [
    "# 5 数据的增删改"
   ]
  },
  {
   "cell_type": "markdown",
   "metadata": {},
   "source": [
    "1. 增：增加数据实际上就是将不同的数进行拼接\n",
    "2. 改：修改实际上就是对元素进行索引，然后重新赋值\n",
    "3. 删：\n",
    "   - 切片\n",
    "   - delete"
   ]
  },
  {
   "cell_type": "code",
   "execution_count": 50,
   "metadata": {},
   "outputs": [
    {
     "data": {
      "text/plain": [
       "array([[5, 3, 6, 3, 6],\n",
       "       [0, 0, 2, 1, 3],\n",
       "       [4, 9, 0, 6, 9],\n",
       "       [4, 3, 9, 3, 4]])"
      ]
     },
     "execution_count": 50,
     "metadata": {},
     "output_type": "execute_result"
    }
   ],
   "source": [
    "arr = np.random.randint(0, 10, (4,5))\n",
    "arr"
   ]
  },
  {
   "cell_type": "code",
   "execution_count": 55,
   "metadata": {},
   "outputs": [
    {
     "data": {
      "text/plain": [
       "array([[11, 11, 11,  3,  6],\n",
       "       [11, 11, 11,  1,  3],\n",
       "       [11, 11, 11,  6,  9],\n",
       "       [ 4,  3,  9,  3,  4]])"
      ]
     },
     "execution_count": 55,
     "metadata": {},
     "output_type": "execute_result"
    }
   ],
   "source": [
    "arr[:3, :3] = [[11, 11, 11], [11, 11, 11], [11, 11, 11]]\n",
    "arr"
   ]
  },
  {
   "cell_type": "code",
   "execution_count": 59,
   "metadata": {},
   "outputs": [
    {
     "data": {
      "text/plain": [
       "array([11, 11, 11, 11, 11, 11,  1, 11, 11, 11,  6,  9,  4,  3,  9,  3,  4])"
      ]
     },
     "execution_count": 59,
     "metadata": {},
     "output_type": "execute_result"
    }
   ],
   "source": [
    "np.delete(arr, arr[3])"
   ]
  },
  {
   "cell_type": "markdown",
   "metadata": {},
   "source": [
    "# 6 NumPy 中常用函数"
   ]
  },
  {
   "cell_type": "markdown",
   "metadata": {},
   "source": [
    "**统计函数**\n",
    "\n",
    "函数|说明\n",
    "-|-\n",
    "sum | 计算数组中的和\n",
    "mean | 计算数组中的均值\n",
    "var | 计算数组中的方差\n",
    "std | 计算数组中的标准差\n",
    "max | 计算数组中的最大值\n",
    "min | 计算数组中的最小值\n",
    "argmax | 返回数组中的最大元素的索引\n",
    "argmin | 返回数组中的最小元素的索引\n",
    "cumsun | 计算数组中所有元素的累计值\n",
    "cumprod | 计算数组中所有元素的累计积"
   ]
  },
  {
   "cell_type": "markdown",
   "metadata": {},
   "source": [
    "字符串函数\n",
    "\n",
    "函数 | 描述\n",
    "-|-\n",
    "add() | 对两个数组的逐个字符串元素进行连接\n",
    "multiply() | 返回按元素多重连接后的字符串\n",
    "center() | 居中字符串\n",
    "capitalize() | 将字符串的第一个字母转换为大写\n",
    "title() | 将字符串中的每个单词的第一个字母转换为大写\n",
    "lower() | 数组元素转换为小写\n",
    "upper() | 数组元素转换为大写\n",
    "split() | 指定分隔符对字符串进行分割，并返回数组列表\n",
    "splitlines() | 返回元素中的行列表，以换行符分割\n",
    "strip() | 移除元素开头或者结尾处的特定字符\n",
    "join() | 通过指定分隔符来连接数组中的元素\n",
    "replace() | 使用新字符串替换字符串中的所有子字符串\n",
    "decode() | 数组元素依次调用 str.decode()\n",
    "encode() | 数组元素依次调用 str.encode()"
   ]
  },
  {
   "cell_type": "code",
   "execution_count": 60,
   "metadata": {},
   "outputs": [
    {
     "data": {
      "text/plain": [
       "array(['data', 'science', 'is', 'fun'], dtype='<U7')"
      ]
     },
     "execution_count": 60,
     "metadata": {},
     "output_type": "execute_result"
    }
   ],
   "source": [
    "a = np.array([\"data\", \"science\", \"is\", \"fun\"])\n",
    "a"
   ]
  },
  {
   "cell_type": "code",
   "execution_count": 61,
   "metadata": {},
   "outputs": [
    {
     "data": {
      "text/plain": [
       "array(['DATA', 'SCIENCE', 'IS', 'FUN'], dtype='<U7')"
      ]
     },
     "execution_count": 61,
     "metadata": {},
     "output_type": "execute_result"
    }
   ],
   "source": [
    "np.char.upper(a)"
   ]
  },
  {
   "cell_type": "markdown",
   "metadata": {},
   "source": [
    "算数函数\n",
    "\n",
    "函数名称 | 函数说明\n",
    "-|-\n",
    "ceil() | 向上最接近的整数，参数是 numebr 或 array\n",
    "floor()  | 向下最接近的整数，参数是 numebr 或 array\n",
    "rint() | 四舍五入，参数是 number 或 array\n",
    "isnan() | 判断元素是否为 NaN，参数是 number 或 array\n",
    "multiply() | 元素相乘，参数是 number 或 array\n",
    "divide() | 元素相除，参数是 number 或 array\n",
    "abs() | 元素的绝对值，参数是 number 或 array\n",
    "where(condition, x, y) | 三元运算符, x if condition else y "
   ]
  },
  {
   "cell_type": "code",
   "execution_count": null,
   "metadata": {},
   "outputs": [],
   "source": []
  }
 ],
 "metadata": {
  "kernelspec": {
   "display_name": "Python 3.10.7 64-bit (microsoft store)",
   "language": "python",
   "name": "python3"
  },
  "language_info": {
   "codemirror_mode": {
    "name": "ipython",
    "version": 3
   },
   "file_extension": ".py",
   "mimetype": "text/x-python",
   "name": "python",
   "nbconvert_exporter": "python",
   "pygments_lexer": "ipython3",
   "version": "3.10.8"
  },
  "orig_nbformat": 4,
  "vscode": {
   "interpreter": {
    "hash": "3c8fdcf4883cfe15f0b9ff0b6007d3c9e3c67c82cf2877cc10bc0b0b5569edd5"
   }
  }
 },
 "nbformat": 4,
 "nbformat_minor": 2
}
