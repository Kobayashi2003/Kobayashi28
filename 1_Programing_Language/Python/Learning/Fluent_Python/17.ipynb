{
 "cells": [
  {
   "cell_type": "markdown",
   "metadata": {},
   "source": [
    "# 使用future处理并发"
   ]
  },
  {
   "cell_type": "markdown",
   "metadata": {},
   "source": [
    "## 17.1 示例：网络下载的风格"
   ]
  },
  {
   "cell_type": "markdown",
   "metadata": {},
   "source": [
    "### 17.1.1 依序下载的脚本"
   ]
  },
  {
   "cell_type": "code",
   "execution_count": 12,
   "metadata": {},
   "outputs": [
    {
     "name": "stdout",
     "output_type": "stream",
     "text": [
      "BD BR CD CN DE EG ET FR ID IN IR JP MX NG PH PK RU TR US VN \n",
      "20 flags download in 36.51s\n"
     ]
    }
   ],
   "source": [
    "import os\n",
    "import time\n",
    "import sys\n",
    "\n",
    "import requests\n",
    "\n",
    "POP20_CC = ('CN IN US ID BR PK NG BD RU JP MX PH VN ET EG DE IR TR CD FR').split() \n",
    "\n",
    "BASE_URL = 'http://flupy.org/data/flags'\n",
    "\n",
    "DEST_DIR = './downloads/'\n",
    "\n",
    "def save_flag(img, filename):\n",
    "    path = os.path.join(DEST_DIR, filename)\n",
    "    with open(path, 'wb') as fp:\n",
    "        fp.write(img)\n",
    "\n",
    "\n",
    "def get_flag(cc):\n",
    "    url = '{}/{cc}{cc}.gif'.format(BASE_URL, cc=cc.lower())\n",
    "    resp = requests.get(url)\n",
    "    return resp.content\n",
    "\n",
    "\n",
    "def show(text):\n",
    "    print(text, end=' ')\n",
    "    sys.stdout.flush()\n",
    "\n",
    "\n",
    "def download_many(cc_list):\n",
    "    for cc in sorted(cc_list):\n",
    "        image = get_flag(cc)\n",
    "        show(cc)\n",
    "        save_flag(image, cc.lower() + '.gif')\n",
    "\n",
    "    return len(cc_list)\n",
    "\n",
    "\n",
    "def main(download_many):\n",
    "    t0 = time.time()\n",
    "    count = download_many(POP20_CC)\n",
    "    elapsed = time.time() - t0\n",
    "    msg = '\\n{} flags download in {:.2f}s'\n",
    "    print(msg.format(count, elapsed))\n",
    "\n",
    "\n",
    "if __name__ == '__main__':\n",
    "    main(download_many)"
   ]
  },
  {
   "cell_type": "code",
   "execution_count": 13,
   "metadata": {},
   "outputs": [
    {
     "name": "stdout",
     "output_type": "stream",
     "text": [
      "hello world "
     ]
    }
   ],
   "source": [
    "print('hello', end=' ')\n",
    "sys.stdout.flush()\n",
    "print('world', end=' ')"
   ]
  },
  {
   "cell_type": "markdown",
   "metadata": {},
   "source": [
    "### 17.1.2 使用concurrent.futures模块下载"
   ]
  },
  {
   "cell_type": "code",
   "execution_count": 14,
   "metadata": {},
   "outputs": [
    {
     "name": "stdout",
     "output_type": "stream",
     "text": [
      "CD IR PK TR BD US RU PH DE IN VN NG MX ID CN JP EG ET BR FR \n",
      "20 flags download in 1.80s\n"
     ]
    }
   ],
   "source": [
    "from concurrent import futures\n",
    "\n",
    "MAX_WORKERS = 20\n",
    "\n",
    "\n",
    "def download_one(cc):\n",
    "    image = get_flag(cc)\n",
    "    show(cc)\n",
    "    save_flag(image, cc.lower() + '.gif')\n",
    "    return cc\n",
    "\n",
    "\n",
    "def download_many(cc_list):\n",
    "    workers = min(MAX_WORKERS, len(cc_list))\n",
    "    with futures.ThreadPoolExecutor(workers) as executor:\n",
    "        res = executor.map(download_one, sorted(cc_list))\n",
    "\n",
    "    return len(list(res))\n",
    "\n",
    "\n",
    "if __name__ == '__main__':\n",
    "    main(download_many)"
   ]
  },
  {
   "cell_type": "markdown",
   "metadata": {},
   "source": [
    "### 17.1.3 future在哪里"
   ]
  },
  {
   "cell_type": "code",
   "execution_count": 15,
   "metadata": {},
   "outputs": [
    {
     "name": "stdout",
     "output_type": "stream",
     "text": [
      "Scheduled for BR: <Future at 0x187ae6c8910 state=running>\n",
      "Scheduled for CN: <Future at 0x187af5568f0 state=running>\n",
      "Scheduled for ID: <Future at 0x187af554280 state=running>\n",
      "Scheduled for IN: <Future at 0x187af556c20 state=pending>\n",
      "Scheduled for US: <Future at 0x187af555f90 state=pending>\n",
      "BR ID <Future at 0x187ae6c8910 state=finished returned str> result: 'BR'\n",
      "<Future at 0x187af554280 state=finished returned str> result: 'ID'\n",
      "CN <Future at 0x187af5568f0 state=finished returned str> result: 'CN'\n",
      "US <Future at 0x187af555f90 state=finished returned str> result: 'US'\n",
      "IN <Future at 0x187af556c20 state=finished returned str> result: 'IN'\n",
      "\n",
      "5 flags download in 3.34s\n"
     ]
    }
   ],
   "source": [
    "def download_many(cc_list):\n",
    "    cc_list = cc_list[:5]\n",
    "    with futures.ThreadPoolExecutor(max_workers=3) as executor:\n",
    "        to_do = []\n",
    "        for cc in sorted(cc_list):\n",
    "            future = executor.submit(download_one, cc)\n",
    "            to_do.append(future)\n",
    "            msg = 'Scheduled for {}: {}'\n",
    "            print(msg.format(cc, future))\n",
    "\n",
    "        results = []\n",
    "        for future in futures.as_completed(to_do):\n",
    "            res = future.result()\n",
    "            msg = '{} result: {!r}'\n",
    "            print(msg.format(future, res))\n",
    "            results.append(res)\n",
    "\n",
    "    return len(results)\n",
    "\n",
    "\n",
    "if __name__ == '__main__':\n",
    "    main(download_many)"
   ]
  },
  {
   "cell_type": "markdown",
   "metadata": {},
   "source": [
    "## 17.3 使用concurrent.futures模块启动进程\n",
    "\n",
    "[A-7](./arcfour_futures.py)\n",
    "<br>\n",
    "[A-9](./sha_futures.py)"
   ]
  },
  {
   "cell_type": "markdown",
   "metadata": {},
   "source": [
    "## 17.4 实验Executor.map方法"
   ]
  },
  {
   "cell_type": "code",
   "execution_count": 4,
   "metadata": {},
   "outputs": [
    {
     "name": "stdout",
     "output_type": "stream",
     "text": [
      "[16:21:52] Script starting.\n",
      "[16:21:52] loiter(0): doing nothing for 0s...\n",
      "[16:21:52] loiter(0): done.\n",
      "[16:21:52] \tloiter(1): doing nothing for 1s...\n",
      "[16:21:52] \t\tloiter(2): doing nothing for 2s...\n",
      "[16:21:52] \t\t\tloiter(3): doing nothing for 3s...\n",
      "[16:21:52] results: <generator object Executor.map.<locals>.result_iterator at 0x000002764FD62A40>\n",
      "[16:21:52] Waiting for individual results:\n",
      "[16:21:52] result 0: 0\n",
      "[16:21:53] \tloiter(1): done.\n",
      "[16:21:53] \t\t\t\tloiter(4): doing nothing for 4s...\n",
      "[16:21:53] result 1: 10\n",
      "[16:21:54] \t\tloiter(2): done.\n",
      "[16:21:54] result 2: 20\n",
      "[16:21:55] \t\t\tloiter(3): done.\n",
      "[16:21:55] result 3: 30\n",
      "[16:21:57] \t\t\t\tloiter(4): done.\n",
      "[16:21:57] result 4: 40\n"
     ]
    }
   ],
   "source": [
    "from time import sleep, strftime\n",
    "from concurrent import futures\n",
    "\n",
    "\n",
    "def display(*args):\n",
    "    print(strftime('[%H:%M:%S]'), end=' ')\n",
    "    print(*args)\n",
    "\n",
    "\n",
    "def loiter(n):\n",
    "    msg = '{}loiter({}): doing nothing for {}s...'\n",
    "    display(msg.format('\\t' * n, n, n))\n",
    "    sleep(n)\n",
    "    msg = '{}loiter({}): done.'\n",
    "    display(msg.format('\\t' * n, n))\n",
    "    return n * 10 \n",
    "\n",
    "\n",
    "def main():\n",
    "    display('Script starting.')\n",
    "    executor = futures.ThreadPoolExecutor(max_workers=3)\n",
    "    results = executor.map(loiter, range(5))\n",
    "    display('results:', results)\n",
    "    display('Waiting for individual results:')\n",
    "    for i, result in enumerate(results):\n",
    "        display('result {}: {}'.format(i, result))\n",
    "    \n",
    "\n",
    "main()"
   ]
  },
  {
   "cell_type": "markdown",
   "metadata": {},
   "source": [
    "## 17.5 显示下载进度并处理错误\n",
    "\n",
    "[flags2_common.py](./flags2_common.py)\n",
    "<br>\n",
    "[flags2_sequential.py](./flags2_sequential.py)\n",
    "<br>\n",
    "[flags2_threadpool.py](./flags2_threadpool.py)"
   ]
  },
  {
   "cell_type": "code",
   "execution_count": 7,
   "metadata": {},
   "outputs": [
    {
     "name": "stderr",
     "output_type": "stream",
     "text": [
      "100%|██████████| 1000/1000 [00:15<00:00, 64.17it/s]\n"
     ]
    }
   ],
   "source": [
    "import time\n",
    "from tqdm import *\n",
    "\n",
    "for i in tqdm(range(1000)):\n",
    "    time.sleep(0.01)"
   ]
  }
 ],
 "metadata": {
  "kernelspec": {
   "display_name": "base",
   "language": "python",
   "name": "python3"
  },
  "language_info": {
   "codemirror_mode": {
    "name": "ipython",
    "version": 3
   },
   "file_extension": ".py",
   "mimetype": "text/x-python",
   "name": "python",
   "nbconvert_exporter": "python",
   "pygments_lexer": "ipython3",
   "version": "3.10.9"
  },
  "orig_nbformat": 4
 },
 "nbformat": 4,
 "nbformat_minor": 2
}
