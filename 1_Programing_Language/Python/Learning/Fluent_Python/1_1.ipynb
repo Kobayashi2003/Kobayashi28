{
 "cells": [
  {
   "cell_type": "code",
   "execution_count": 18,
   "metadata": {},
   "outputs": [],
   "source": [
    "import dill\n",
    "dill.dump_session('notebook_1_1.dill')"
   ]
  },
  {
   "cell_type": "code",
   "execution_count": 2,
   "metadata": {},
   "outputs": [],
   "source": [
    "import dill\n",
    "dill.load_session('notebook_1_1.dill')"
   ]
  },
  {
   "cell_type": "code",
   "execution_count": 2,
   "metadata": {},
   "outputs": [],
   "source": [
    "import collections\n",
    "\n",
    "Card = collections.namedtuple('Card', ['rank', 'suit'])\n",
    "\n",
    "class FrenchDeck:\n",
    "    ranks = [str(n) for n in range(2 ,11)] + list('JQKA')\n",
    "    suits = 'spades diamonds clubs hearts'.split()\n",
    "\n",
    "    def __init__(self):\n",
    "        self.__cards = [Card(rank, suit) for suit in self.suits\n",
    "                                        for rank in self.ranks]\n",
    "        \n",
    "    def __len__(self):\n",
    "        return len(self.__cards)\n",
    "    \n",
    "    def __getitem__(self, position):\n",
    "        return self.__cards[position]"
   ]
  },
  {
   "cell_type": "code",
   "execution_count": 3,
   "metadata": {},
   "outputs": [
    {
     "data": {
      "text/plain": [
       "Card(rank='7', suit='diamonds')"
      ]
     },
     "execution_count": 3,
     "metadata": {},
     "output_type": "execute_result"
    }
   ],
   "source": [
    "beer_card = Card('7', 'diamonds')\n",
    "beer_card"
   ]
  },
  {
   "cell_type": "code",
   "execution_count": 3,
   "metadata": {},
   "outputs": [
    {
     "data": {
      "text/plain": [
       "52"
      ]
     },
     "execution_count": 3,
     "metadata": {},
     "output_type": "execute_result"
    }
   ],
   "source": [
    "deck = FrenchDeck()\n",
    "len(deck)"
   ]
  },
  {
   "cell_type": "code",
   "execution_count": 6,
   "metadata": {},
   "outputs": [
    {
     "name": "stdout",
     "output_type": "stream",
     "text": [
      "Card(rank='2', suit='spades') Card(rank='A', suit='hearts')\n"
     ]
    }
   ],
   "source": [
    "print(deck[0], deck[-1])"
   ]
  },
  {
   "cell_type": "code",
   "execution_count": 8,
   "metadata": {},
   "outputs": [
    {
     "name": "stdout",
     "output_type": "stream",
     "text": [
      "Card(rank='3', suit='diamonds') Card(rank='10', suit='diamonds') Card(rank='6', suit='clubs')\n"
     ]
    }
   ],
   "source": [
    "from random import choice \n",
    "print(choice(deck), choice(deck), choice(deck))"
   ]
  },
  {
   "cell_type": "code",
   "execution_count": 9,
   "metadata": {},
   "outputs": [
    {
     "data": {
      "text/plain": [
       "[Card(rank='2', suit='spades'),\n",
       " Card(rank='3', suit='spades'),\n",
       " Card(rank='4', suit='spades')]"
      ]
     },
     "execution_count": 9,
     "metadata": {},
     "output_type": "execute_result"
    }
   ],
   "source": [
    "# due to the __getitem__ method taking over the [] operator, we can use slicing\n",
    "# for example, to get the first 3 cards in a deck:\n",
    "deck[:3]"
   ]
  },
  {
   "cell_type": "code",
   "execution_count": 3,
   "metadata": {},
   "outputs": [
    {
     "data": {
      "text/plain": [
       "[Card(rank='A', suit='spades'),\n",
       " Card(rank='A', suit='diamonds'),\n",
       " Card(rank='A', suit='clubs'),\n",
       " Card(rank='A', suit='hearts')]"
      ]
     },
     "execution_count": 3,
     "metadata": {},
     "output_type": "execute_result"
    }
   ],
   "source": [
    "deck[12::13] # get every 13th card, starting from index 12"
   ]
  },
  {
   "cell_type": "code",
   "execution_count": 11,
   "metadata": {},
   "outputs": [
    {
     "name": "stdout",
     "output_type": "stream",
     "text": [
      "Card(rank='2', suit='spades')\n",
      "Card(rank='3', suit='spades')\n",
      "Card(rank='4', suit='spades')\n",
      "Card(rank='5', suit='spades')\n",
      "Card(rank='6', suit='spades')\n",
      "Card(rank='7', suit='spades')\n",
      "Card(rank='8', suit='spades')\n",
      "Card(rank='9', suit='spades')\n",
      "Card(rank='10', suit='spades')\n",
      "Card(rank='J', suit='spades')\n",
      "Card(rank='Q', suit='spades')\n",
      "Card(rank='K', suit='spades')\n",
      "Card(rank='A', suit='spades')\n",
      "Card(rank='2', suit='diamonds')\n",
      "Card(rank='3', suit='diamonds')\n",
      "Card(rank='4', suit='diamonds')\n",
      "Card(rank='5', suit='diamonds')\n",
      "Card(rank='6', suit='diamonds')\n",
      "Card(rank='7', suit='diamonds')\n",
      "Card(rank='8', suit='diamonds')\n",
      "Card(rank='9', suit='diamonds')\n",
      "Card(rank='10', suit='diamonds')\n",
      "Card(rank='J', suit='diamonds')\n",
      "Card(rank='Q', suit='diamonds')\n",
      "Card(rank='K', suit='diamonds')\n",
      "Card(rank='A', suit='diamonds')\n",
      "Card(rank='2', suit='clubs')\n",
      "Card(rank='3', suit='clubs')\n",
      "Card(rank='4', suit='clubs')\n",
      "Card(rank='5', suit='clubs')\n",
      "Card(rank='6', suit='clubs')\n",
      "Card(rank='7', suit='clubs')\n",
      "Card(rank='8', suit='clubs')\n",
      "Card(rank='9', suit='clubs')\n",
      "Card(rank='10', suit='clubs')\n",
      "Card(rank='J', suit='clubs')\n",
      "Card(rank='Q', suit='clubs')\n",
      "Card(rank='K', suit='clubs')\n",
      "Card(rank='A', suit='clubs')\n",
      "Card(rank='2', suit='hearts')\n",
      "Card(rank='3', suit='hearts')\n",
      "Card(rank='4', suit='hearts')\n",
      "Card(rank='5', suit='hearts')\n",
      "Card(rank='6', suit='hearts')\n",
      "Card(rank='7', suit='hearts')\n",
      "Card(rank='8', suit='hearts')\n",
      "Card(rank='9', suit='hearts')\n",
      "Card(rank='10', suit='hearts')\n",
      "Card(rank='J', suit='hearts')\n",
      "Card(rank='Q', suit='hearts')\n",
      "Card(rank='K', suit='hearts')\n",
      "Card(rank='A', suit='hearts')\n"
     ]
    }
   ],
   "source": [
    "# by the way, the deck is also iterable\n",
    "for card in deck:\n",
    "    print(card)"
   ]
  },
  {
   "cell_type": "code",
   "execution_count": 12,
   "metadata": {},
   "outputs": [
    {
     "name": "stdout",
     "output_type": "stream",
     "text": [
      "Card(rank='A', suit='hearts')\n",
      "Card(rank='K', suit='hearts')\n",
      "Card(rank='Q', suit='hearts')\n",
      "Card(rank='J', suit='hearts')\n",
      "Card(rank='10', suit='hearts')\n",
      "Card(rank='9', suit='hearts')\n",
      "Card(rank='8', suit='hearts')\n",
      "Card(rank='7', suit='hearts')\n",
      "Card(rank='6', suit='hearts')\n",
      "Card(rank='5', suit='hearts')\n",
      "Card(rank='4', suit='hearts')\n",
      "Card(rank='3', suit='hearts')\n",
      "Card(rank='2', suit='hearts')\n",
      "Card(rank='A', suit='clubs')\n",
      "Card(rank='K', suit='clubs')\n",
      "Card(rank='Q', suit='clubs')\n",
      "Card(rank='J', suit='clubs')\n",
      "Card(rank='10', suit='clubs')\n",
      "Card(rank='9', suit='clubs')\n",
      "Card(rank='8', suit='clubs')\n",
      "Card(rank='7', suit='clubs')\n",
      "Card(rank='6', suit='clubs')\n",
      "Card(rank='5', suit='clubs')\n",
      "Card(rank='4', suit='clubs')\n",
      "Card(rank='3', suit='clubs')\n",
      "Card(rank='2', suit='clubs')\n",
      "Card(rank='A', suit='diamonds')\n",
      "Card(rank='K', suit='diamonds')\n",
      "Card(rank='Q', suit='diamonds')\n",
      "Card(rank='J', suit='diamonds')\n",
      "Card(rank='10', suit='diamonds')\n",
      "Card(rank='9', suit='diamonds')\n",
      "Card(rank='8', suit='diamonds')\n",
      "Card(rank='7', suit='diamonds')\n",
      "Card(rank='6', suit='diamonds')\n",
      "Card(rank='5', suit='diamonds')\n",
      "Card(rank='4', suit='diamonds')\n",
      "Card(rank='3', suit='diamonds')\n",
      "Card(rank='2', suit='diamonds')\n",
      "Card(rank='A', suit='spades')\n",
      "Card(rank='K', suit='spades')\n",
      "Card(rank='Q', suit='spades')\n",
      "Card(rank='J', suit='spades')\n",
      "Card(rank='10', suit='spades')\n",
      "Card(rank='9', suit='spades')\n",
      "Card(rank='8', suit='spades')\n",
      "Card(rank='7', suit='spades')\n",
      "Card(rank='6', suit='spades')\n",
      "Card(rank='5', suit='spades')\n",
      "Card(rank='4', suit='spades')\n",
      "Card(rank='3', suit='spades')\n",
      "Card(rank='2', suit='spades')\n"
     ]
    }
   ],
   "source": [
    "# reverse iteration is also supported\n",
    "for card in reversed(deck):\n",
    "    print(card)"
   ]
  },
  {
   "cell_type": "code",
   "execution_count": 13,
   "metadata": {},
   "outputs": [
    {
     "data": {
      "text/plain": [
       "True"
      ]
     },
     "execution_count": 13,
     "metadata": {},
     "output_type": "execute_result"
    }
   ],
   "source": [
    "# if a collection has no __contains__ method, the in operator does a sequential scan\n",
    "Card('Q', 'hearts') in deck"
   ]
  },
  {
   "cell_type": "code",
   "execution_count": 14,
   "metadata": {},
   "outputs": [
    {
     "data": {
      "text/plain": [
       "False"
      ]
     },
     "execution_count": 14,
     "metadata": {},
     "output_type": "execute_result"
    }
   ],
   "source": [
    "Card('7', 'beasts') in deck"
   ]
  },
  {
   "cell_type": "code",
   "execution_count": 15,
   "metadata": {},
   "outputs": [],
   "source": [
    "# so how do we sort the cards in a deck?\n",
    "suit_values = dict(spades=3, hearts=2, diamonds=1, clubs=0)\n",
    "def spades_high(card):\n",
    "    rank_value = FrenchDeck.ranks.index(card.rank)\n",
    "    return rank_value * len(suit_values) + suit_values[card.suit]"
   ]
  },
  {
   "cell_type": "code",
   "execution_count": 16,
   "metadata": {},
   "outputs": [
    {
     "name": "stdout",
     "output_type": "stream",
     "text": [
      "Card(rank='2', suit='clubs')\n",
      "Card(rank='2', suit='diamonds')\n",
      "Card(rank='2', suit='hearts')\n",
      "Card(rank='2', suit='spades')\n",
      "Card(rank='3', suit='clubs')\n",
      "Card(rank='3', suit='diamonds')\n",
      "Card(rank='3', suit='hearts')\n",
      "Card(rank='3', suit='spades')\n",
      "Card(rank='4', suit='clubs')\n",
      "Card(rank='4', suit='diamonds')\n",
      "Card(rank='4', suit='hearts')\n",
      "Card(rank='4', suit='spades')\n",
      "Card(rank='5', suit='clubs')\n",
      "Card(rank='5', suit='diamonds')\n",
      "Card(rank='5', suit='hearts')\n",
      "Card(rank='5', suit='spades')\n",
      "Card(rank='6', suit='clubs')\n",
      "Card(rank='6', suit='diamonds')\n",
      "Card(rank='6', suit='hearts')\n",
      "Card(rank='6', suit='spades')\n",
      "Card(rank='7', suit='clubs')\n",
      "Card(rank='7', suit='diamonds')\n",
      "Card(rank='7', suit='hearts')\n",
      "Card(rank='7', suit='spades')\n",
      "Card(rank='8', suit='clubs')\n",
      "Card(rank='8', suit='diamonds')\n",
      "Card(rank='8', suit='hearts')\n",
      "Card(rank='8', suit='spades')\n",
      "Card(rank='9', suit='clubs')\n",
      "Card(rank='9', suit='diamonds')\n",
      "Card(rank='9', suit='hearts')\n",
      "Card(rank='9', suit='spades')\n",
      "Card(rank='10', suit='clubs')\n",
      "Card(rank='10', suit='diamonds')\n",
      "Card(rank='10', suit='hearts')\n",
      "Card(rank='10', suit='spades')\n",
      "Card(rank='J', suit='clubs')\n",
      "Card(rank='J', suit='diamonds')\n",
      "Card(rank='J', suit='hearts')\n",
      "Card(rank='J', suit='spades')\n",
      "Card(rank='Q', suit='clubs')\n",
      "Card(rank='Q', suit='diamonds')\n",
      "Card(rank='Q', suit='hearts')\n",
      "Card(rank='Q', suit='spades')\n",
      "Card(rank='K', suit='clubs')\n",
      "Card(rank='K', suit='diamonds')\n",
      "Card(rank='K', suit='hearts')\n",
      "Card(rank='K', suit='spades')\n",
      "Card(rank='A', suit='clubs')\n",
      "Card(rank='A', suit='diamonds')\n",
      "Card(rank='A', suit='hearts')\n",
      "Card(rank='A', suit='spades')\n"
     ]
    }
   ],
   "source": [
    "# with the spades_high function, we can now list the cards in order of rank\n",
    "for card in sorted(deck, key=spades_high):\n",
    "    print(card)"
   ]
  }
 ],
 "metadata": {
  "kernelspec": {
   "display_name": "base",
   "language": "python",
   "name": "python3"
  },
  "language_info": {
   "codemirror_mode": {
    "name": "ipython",
    "version": 3
   },
   "file_extension": ".py",
   "mimetype": "text/x-python",
   "name": "python",
   "nbconvert_exporter": "python",
   "pygments_lexer": "ipython3",
   "version": "3.10.9"
  },
  "orig_nbformat": 4
 },
 "nbformat": 4,
 "nbformat_minor": 2
}
