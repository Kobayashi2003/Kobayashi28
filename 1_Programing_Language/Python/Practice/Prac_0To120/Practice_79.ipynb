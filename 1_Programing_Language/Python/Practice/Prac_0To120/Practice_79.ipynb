{
 "cells": [
  {
   "cell_type": "code",
   "execution_count": 1,
   "metadata": {},
   "outputs": [],
   "source": [
    "import numpy as np"
   ]
  },
  {
   "cell_type": "code",
   "execution_count": 17,
   "metadata": {},
   "outputs": [
    {
     "data": {
      "text/plain": [
       "array([[1., 1., 1., 1., 1., 1., 1., 1., 1., 1.],\n",
       "       [1., 0., 0., 0., 0., 0., 0., 0., 0., 1.],\n",
       "       [1., 0., 0., 0., 0., 0., 0., 0., 0., 1.],\n",
       "       [1., 0., 0., 0., 0., 0., 0., 0., 0., 1.],\n",
       "       [1., 0., 0., 0., 0., 0., 0., 0., 0., 1.],\n",
       "       [1., 0., 0., 0., 0., 0., 0., 0., 0., 1.],\n",
       "       [1., 0., 0., 0., 0., 0., 0., 0., 0., 1.],\n",
       "       [1., 0., 0., 0., 0., 0., 0., 0., 0., 1.],\n",
       "       [1., 0., 0., 0., 0., 0., 0., 0., 0., 1.],\n",
       "       [1., 1., 1., 1., 1., 1., 1., 1., 1., 1.]])"
      ]
     },
     "execution_count": 17,
     "metadata": {},
     "output_type": "execute_result"
    }
   ],
   "source": [
    "# 1\n",
    "arr1 = np.zeros((8, 8))\n",
    "arr2 = np.ones((1, 8))\n",
    "arr3 = np.ones((10, 1))\n",
    "\n",
    "arr4 = np.hstack((arr3, np.vstack((arr2, arr1, arr2)), arr3))\n",
    "arr4"
   ]
  },
  {
   "cell_type": "code",
   "execution_count": 33,
   "metadata": {},
   "outputs": [
    {
     "data": {
      "text/plain": [
       "array([[1., 0., 0., 0.],\n",
       "       [0., 2., 0., 0.],\n",
       "       [0., 0., 3., 0.],\n",
       "       [0., 0., 0., 4.]])"
      ]
     },
     "execution_count": 33,
     "metadata": {},
     "output_type": "execute_result"
    }
   ],
   "source": [
    "# 2\n",
    "arr = np.eye(4)\n",
    "for i in range(4):\n",
    "    arr[i, i] += i\n",
    "arr"
   ]
  },
  {
   "cell_type": "code",
   "execution_count": 153,
   "metadata": {},
   "outputs": [
    {
     "name": "stdout",
     "output_type": "stream",
     "text": [
      "[[0.99824813 0.86714302 0.30054942 0.09988081 0.73115682]\n",
      " [0.3239248  0.69111951 0.75697147 0.06802548 0.00968747]\n",
      " [0.32446622 0.00407001 0.90218853 0.14912875 0.47606975]\n",
      " [0.26962831 0.09337164 0.38313282 0.38903983 0.22373471]\n",
      " [0.6900253  0.70387794 0.53332717 0.82630043 0.72778597]]\n",
      "[[1.         0.86812714 0.29821558 0.09637187 0.73134461]\n",
      " [0.32172785 0.69107284 0.75731042 0.06432999 0.00565036]\n",
      " [0.32227244 0.         0.90337788 0.1459082  0.47476376]\n",
      " [0.26711341 0.08982458 0.38128259 0.38722419 0.22095105]\n",
      " [0.68997222 0.70390599 0.53235647 0.82704537 0.72795402]]\n"
     ]
    }
   ],
   "source": [
    "# 3\n",
    "arr = np.random.rand(5, 5)\n",
    "print(arr)\n",
    "max = np.max(arr)\n",
    "min = np.min(arr)\n",
    "# 将矩阵中的最大值和最小值分别替换为 1 与 0，并将其它的元素映射到 1 与 0 之间\n",
    "arr = (arr - min) / (max - min)\n",
    "print(arr)\n"
   ]
  },
  {
   "cell_type": "code",
   "execution_count": 55,
   "metadata": {},
   "outputs": [
    {
     "name": "stdout",
     "output_type": "stream",
     "text": [
      "[0.5408544  0.7980945  0.60562288 0.49243132 0.3467506  0.7392843\n",
      " 0.90704542 0.48833987 0.47753942 0.84973248 0.39113586 0.05905265\n",
      " 0.12761505 0.20804998 0.52182462 0.53537188 0.49118892 0.91518119\n",
      " 0.61821405 0.80320839 0.89603739 0.39692546 0.14768898 0.54529064\n",
      " 0.14812682 0.35078605 0.24068635 0.94873678 0.59701774 0.71537391]\n"
     ]
    },
    {
     "data": {
      "text/plain": [
       "0.5301069307283997"
      ]
     },
     "execution_count": 55,
     "metadata": {},
     "output_type": "execute_result"
    }
   ],
   "source": [
    "# 4\n",
    "arr = np.random.rand(30)\n",
    "print(arr)\n",
    "arr.mean()"
   ]
  },
  {
   "cell_type": "code",
   "execution_count": 58,
   "metadata": {},
   "outputs": [
    {
     "data": {
      "text/plain": [
       "array([0., 0., 0., 0., 1., 0., 0., 0., 0., 0.])"
      ]
     },
     "execution_count": 58,
     "metadata": {},
     "output_type": "execute_result"
    }
   ],
   "source": [
    "# 5\n",
    "arr = (np.zeros(10))\n",
    "arr[4] = 1\n",
    "arr"
   ]
  },
  {
   "cell_type": "code",
   "execution_count": 60,
   "metadata": {},
   "outputs": [
    {
     "data": {
      "text/plain": [
       "array([10, 11, 12, 13, 14, 15, 16, 17, 18, 19, 20, 21, 22, 23, 24, 25, 26,\n",
       "       27, 28, 29, 30, 31, 32, 33, 34, 35, 36, 37, 38, 39, 40, 41, 42, 43,\n",
       "       44, 45, 46, 47, 48, 49])"
      ]
     },
     "execution_count": 60,
     "metadata": {},
     "output_type": "execute_result"
    }
   ],
   "source": [
    "# 6\n",
    "arr = np.arange(10, 50)\n",
    "arr"
   ]
  },
  {
   "cell_type": "code",
   "execution_count": 61,
   "metadata": {},
   "outputs": [
    {
     "data": {
      "text/plain": [
       "array([[0., 1., 2., 3., 4.],\n",
       "       [0., 1., 2., 3., 4.],\n",
       "       [0., 1., 2., 3., 4.],\n",
       "       [0., 1., 2., 3., 4.],\n",
       "       [0., 1., 2., 3., 4.]])"
      ]
     },
     "execution_count": 61,
     "metadata": {},
     "output_type": "execute_result"
    }
   ],
   "source": [
    "# 7\n",
    "arr1 = np.zeros((5, 5))\n",
    "arr2 = np.arange(0, 5)\n",
    "arr2 + arr1"
   ]
  },
  {
   "cell_type": "code",
   "execution_count": 65,
   "metadata": {},
   "outputs": [
    {
     "data": {
      "text/plain": [
       "array([0.09090909, 0.18181818, 0.27272727, 0.36363636, 0.45454545,\n",
       "       0.54545455, 0.63636364, 0.72727273, 0.81818182, 0.90909091])"
      ]
     },
     "execution_count": 65,
     "metadata": {},
     "output_type": "execute_result"
    }
   ],
   "source": [
    "# 8\n",
    "arr = np.linspace(0, 1, 12)[1:-1]\n",
    "arr"
   ]
  },
  {
   "cell_type": "code",
   "execution_count": 73,
   "metadata": {},
   "outputs": [
    {
     "data": {
      "text/plain": [
       "array([-87, -62, -58, -11,  -2,   1,  37,  39,  54,  61])"
      ]
     },
     "execution_count": 73,
     "metadata": {},
     "output_type": "execute_result"
    }
   ],
   "source": [
    "# 9\n",
    "arr = np.random.randint(-100, 100, 10)\n",
    "arr.sort()\n",
    "arr"
   ]
  },
  {
   "cell_type": "code",
   "execution_count": 75,
   "metadata": {},
   "outputs": [
    {
     "name": "stdout",
     "output_type": "stream",
     "text": [
      "[ 74 -96 -46 -81   1 -97   1 -87  -1 -72]\n"
     ]
    },
    {
     "data": {
      "text/plain": [
       "array([  0, -96, -46, -81,   1, -97,   1, -87,  -1, -72])"
      ]
     },
     "execution_count": 75,
     "metadata": {},
     "output_type": "execute_result"
    }
   ],
   "source": [
    "# 10\n",
    "arr = np.random.randint(-100, 100, 10)\n",
    "print(arr)\n",
    "arr[np.argmax(arr)] = 0\n",
    "arr"
   ]
  },
  {
   "cell_type": "code",
   "execution_count": 77,
   "metadata": {},
   "outputs": [
    {
     "name": "stdout",
     "output_type": "stream",
     "text": [
      "[[-53 -51 -97  42  25]\n",
      " [ 75 -29  82 -70 -24]\n",
      " [-25 -30  52  23 -15]\n",
      " [ 44  17 -30  49  13]\n",
      " [-51 -19  63   3 -99]]\n"
     ]
    },
    {
     "data": {
      "text/plain": [
       "array([[-53, -51, -97,  42,  25],\n",
       "       [ 75, -29,  82, -70, -24],\n",
       "       [-30, -25, -15,  23,  52],\n",
       "       [ 44,  17, -30,  49,  13],\n",
       "       [-51, -19,  63,   3, -99]])"
      ]
     },
     "execution_count": 77,
     "metadata": {},
     "output_type": "execute_result"
    }
   ],
   "source": [
    "# 11\n",
    "arr = np.random.randint(-100, 100, (5, 5))\n",
    "print(arr)\n",
    "arr[2].sort()\n",
    "arr"
   ]
  },
  {
   "cell_type": "code",
   "execution_count": 84,
   "metadata": {},
   "outputs": [
    {
     "name": "stdout",
     "output_type": "stream",
     "text": [
      "[[[[ 68 -48]\n",
      "   [ 33   4]]\n",
      "\n",
      "  [[ 27  51]\n",
      "   [-27  69]]]\n",
      "\n",
      "\n",
      " [[[ 60  48]\n",
      "   [ 98 -42]]\n",
      "\n",
      "  [[ 59 -69]\n",
      "   [-20  43]]]]\n"
     ]
    },
    {
     "data": {
      "text/plain": [
       "array([[ 57, 120],\n",
       "       [164,  13]])"
      ]
     },
     "execution_count": 84,
     "metadata": {},
     "output_type": "execute_result"
    }
   ],
   "source": [
    "# 12\n",
    "# 给定一个四维矩阵，得到最后两维的和\n",
    "arr = np.random.randint(-100, 100, (2, 2, 2, 2))\n",
    "print(arr)\n",
    "arr.sum(axis=(-2, -1))"
   ]
  },
  {
   "cell_type": "code",
   "execution_count": 91,
   "metadata": {},
   "outputs": [
    {
     "data": {
      "text/plain": [
       "array([  974437693, -1833016521, -2088296952, ...,  1413548104,\n",
       "       -1963708224, -2117120731], dtype=int32)"
      ]
     },
     "execution_count": 91,
     "metadata": {},
     "output_type": "execute_result"
    }
   ],
   "source": [
    "# 13_1\n",
    "arr1 = np.random.randint(-10000, 10000, 100000)\n",
    "arr1**3"
   ]
  },
  {
   "cell_type": "code",
   "execution_count": 92,
   "metadata": {},
   "outputs": [
    {
     "data": {
      "text/plain": [
       "array([ 1784693272, -1479340705,  -190825905, ..., -1217255129,\n",
       "        1726480745,   -14437875], dtype=int32)"
      ]
     },
     "execution_count": 92,
     "metadata": {},
     "output_type": "execute_result"
    }
   ],
   "source": [
    "# 13_2\n",
    "import random\n",
    "arr2 = np.array([random.randint(-10000, 10000) for i in range(100000)])\n",
    "arr2**3 "
   ]
  },
  {
   "cell_type": "code",
   "execution_count": 113,
   "metadata": {},
   "outputs": [
    {
     "name": "stdout",
     "output_type": "stream",
     "text": [
      "[[  4.   9.  -6.  -2.   2.]\n",
      " [ -5.  -5.   5.  -2.   3.]\n",
      " [ -7.   9.   1.   4.  -1.]\n",
      " [  8.   1.   7.  -6.  -4.]\n",
      " [-10.   3. -10.   1.  -1.]]\n"
     ]
    },
    {
     "data": {
      "text/plain": [
       "array([[ 2.6,  7.6, -7.4, -3.4,  0.6],\n",
       "       [-4.2, -4.2,  5.8, -1.2,  3.8],\n",
       "       [-8.2,  7.8, -0.2,  2.8, -2.2],\n",
       "       [ 6.8, -0.2,  5.8, -7.2, -5.2],\n",
       "       [-6.6,  6.4, -6.6,  4.4,  2.4]])"
      ]
     },
     "execution_count": 113,
     "metadata": {},
     "output_type": "execute_result"
    }
   ],
   "source": [
    "# 14\n",
    "arr = np.random.randint(-10, 10, (5, 5))\n",
    "arr = arr.astype(float)\n",
    "print(arr)\n",
    "for i in range(arr.shape[0]):\n",
    "    arr[i] -= arr[i].mean()\n",
    "arr"
   ]
  },
  {
   "cell_type": "code",
   "execution_count": 115,
   "metadata": {},
   "outputs": [
    {
     "data": {
      "text/plain": [
       "array([[0.66666667, 0.        , 0.05555556, 0.55555556, 0.83333333],\n",
       "       [0.22222222, 0.55555556, 0.33333333, 0.77777778, 0.16666667],\n",
       "       [0.5       , 0.11111111, 0.05555556, 0.94444444, 0.72222222],\n",
       "       [0.5       , 1.        , 1.        , 0.72222222, 0.94444444],\n",
       "       [0.77777778, 0.66666667, 0.16666667, 0.72222222, 0.05555556]])"
      ]
     },
     "execution_count": 115,
     "metadata": {},
     "output_type": "execute_result"
    }
   ],
   "source": [
    "# 15 正则化一个矩阵\n",
    "arr = np.random.randint(-10, 10, (5, 5))\n",
    "(arr - np.min(arr))/(arr.max() - arr.min())"
   ]
  },
  {
   "cell_type": "code",
   "execution_count": 120,
   "metadata": {},
   "outputs": [
    {
     "name": "stdout",
     "output_type": "stream",
     "text": [
      "[[-10   7  -9]\n",
      " [  4  -4  -7]\n",
      " [  3  -1  -2]\n",
      " [ -6   8  -9]\n",
      " [  4  -6   8]] \n",
      " [[ 8 -3]\n",
      " [ 4  7]\n",
      " [ 6  1]]\n"
     ]
    },
    {
     "data": {
      "text/plain": [
       "array([[-106,   70],\n",
       "       [ -26,  -47],\n",
       "       [   8,  -18],\n",
       "       [ -70,   65],\n",
       "       [  56,  -46]])"
      ]
     },
     "execution_count": 120,
     "metadata": {},
     "output_type": "execute_result"
    }
   ],
   "source": [
    "# 16\n",
    "arr1 = np.random.randint(-10, 10, (5, 3))\n",
    "arr2 = np.random.randint(-10, 10, (3, 2))\n",
    "print(arr1, arr2)\n",
    "arr1 @ arr2"
   ]
  },
  {
   "cell_type": "code",
   "execution_count": 125,
   "metadata": {},
   "outputs": [
    {
     "name": "stdout",
     "output_type": "stream",
     "text": [
      "[[-2  1  2 -5  3]\n",
      " [ 6  7  5  1  0]\n",
      " [ 3  7  4 -4  4]\n",
      " [ 0 -5  2 -1  3]\n",
      " [-8  2  1 -4 -3]]\n"
     ]
    },
    {
     "data": {
      "text/plain": [
       "array([[ 6,  7,  5,  1,  0],\n",
       "       [-2,  1,  2, -5,  3],\n",
       "       [ 3,  7,  4, -4,  4],\n",
       "       [ 0, -5,  2, -1,  3],\n",
       "       [-8,  2,  1, -4, -3]])"
      ]
     },
     "execution_count": 125,
     "metadata": {},
     "output_type": "execute_result"
    }
   ],
   "source": [
    "# 17\n",
    "arr = np.random.randint(-10, 10, (5, 5))\n",
    "print(arr)\n",
    "# 交换第一行与第二行\n",
    "arr[[0, 1]] = arr[[1, 0]]\n",
    "arr"
   ]
  },
  {
   "cell_type": "code",
   "execution_count": 138,
   "metadata": {},
   "outputs": [
    {
     "name": "stdout",
     "output_type": "stream",
     "text": [
      "[1 0 2 0 3 0 4 0 5]\n"
     ]
    },
    {
     "data": {
      "text/plain": [
       "array([1, 0, 0, 0, 2, 0, 0, 0, 3, 0, 0, 0, 4, 0, 0, 0, 5])"
      ]
     },
     "execution_count": 138,
     "metadata": {},
     "output_type": "execute_result"
    }
   ],
   "source": [
    "# 18\n",
    "arr = np.array([1, 2, 3, 4, 5])\n",
    "# 每个元素之间插入三个0\n",
    "\n",
    "arr = np.insert(arr, np.arange(1, arr.size), 0)\n",
    "print(arr)\n",
    "np.insert(arr, np.arange(1, arr.size), 0)"
   ]
  },
  {
   "cell_type": "code",
   "execution_count": 152,
   "metadata": {},
   "outputs": [
    {
     "data": {
      "text/plain": [
       "array([[0., 1., 0., 1., 0., 1., 0., 1.],\n",
       "       [1., 0., 1., 0., 1., 0., 1., 0.],\n",
       "       [0., 1., 0., 1., 0., 1., 0., 1.],\n",
       "       [1., 0., 1., 0., 1., 0., 1., 0.],\n",
       "       [0., 1., 0., 1., 0., 1., 0., 1.],\n",
       "       [1., 0., 1., 0., 1., 0., 1., 0.],\n",
       "       [0., 1., 0., 1., 0., 1., 0., 1.],\n",
       "       [1., 0., 1., 0., 1., 0., 1., 0.]])"
      ]
     },
     "execution_count": 152,
     "metadata": {},
     "output_type": "execute_result"
    }
   ],
   "source": [
    "# 19\n",
    "arr = np.zeros((8, 8))\n",
    "# 变为 0 1 交替的矩阵\n",
    "arr[1::2, ::2] = 1\n",
    "# print(arr)\n",
    "arr[::2, 1::2] = 1\n",
    "arr\n"
   ]
  },
  {
   "cell_type": "code",
   "execution_count": null,
   "metadata": {},
   "outputs": [],
   "source": []
  }
 ],
 "metadata": {
  "kernelspec": {
   "display_name": "Python 3.10.8 64-bit (microsoft store)",
   "language": "python",
   "name": "python3"
  },
  "language_info": {
   "codemirror_mode": {
    "name": "ipython",
    "version": 3
   },
   "file_extension": ".py",
   "mimetype": "text/x-python",
   "name": "python",
   "nbconvert_exporter": "python",
   "pygments_lexer": "ipython3",
   "version": "3.10.8"
  },
  "orig_nbformat": 4,
  "vscode": {
   "interpreter": {
    "hash": "3c8fdcf4883cfe15f0b9ff0b6007d3c9e3c67c82cf2877cc10bc0b0b5569edd5"
   }
  }
 },
 "nbformat": 4,
 "nbformat_minor": 2
}
