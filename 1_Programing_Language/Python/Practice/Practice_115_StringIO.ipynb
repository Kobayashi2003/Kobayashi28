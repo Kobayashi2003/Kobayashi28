{
 "cells": [
  {
   "cell_type": "code",
   "execution_count": 1,
   "metadata": {},
   "outputs": [],
   "source": [
    "import io\n",
    "\n",
    "output = io.StringIO()\n",
    "output.write('First line.\\n')\n",
    "print('Second line.', file=output)\n",
    "\n",
    "# Retrieve file contents -- this will be\n",
    "# 'First line.\\nSecond line.\\n'\n",
    "contents = output.getvalue()\n",
    "\n",
    "# Close object and discard memory buffer --\n",
    "# .getvalue() will now raise an exception.\n",
    "output.close()"
   ]
  },
  {
   "cell_type": "code",
   "execution_count": 2,
   "metadata": {},
   "outputs": [
    {
     "name": "stdout",
     "output_type": "stream",
     "text": [
      "First line.\n",
      "Second line.\n",
      "\n"
     ]
    }
   ],
   "source": [
    "print(contents)"
   ]
  }
 ],
 "metadata": {
  "kernelspec": {
   "display_name": "base",
   "language": "python",
   "name": "python3"
  },
  "language_info": {
   "codemirror_mode": {
    "name": "ipython",
    "version": 3
   },
   "file_extension": ".py",
   "mimetype": "text/x-python",
   "name": "python",
   "nbconvert_exporter": "python",
   "pygments_lexer": "ipython3",
   "version": "3.10.9"
  },
  "orig_nbformat": 4
 },
 "nbformat": 4,
 "nbformat_minor": 2
}
