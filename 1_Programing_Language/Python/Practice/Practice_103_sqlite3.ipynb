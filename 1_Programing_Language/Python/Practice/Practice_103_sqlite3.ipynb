{
 "cells": [
  {
   "attachments": {},
   "cell_type": "markdown",
   "metadata": {},
   "source": [
    "[Sqlite官方教程](https://docs.python.org/zh-cn/3.9/library/sqlite3.html#sqlite3.Cursor.execute)"
   ]
  },
  {
   "cell_type": "code",
   "execution_count": 1,
   "metadata": {},
   "outputs": [],
   "source": [
    "import sqlite3\n",
    "con = sqlite3.connect('example.db')"
   ]
  },
  {
   "cell_type": "code",
   "execution_count": 11,
   "metadata": {},
   "outputs": [],
   "source": [
    "cur = con.cursor()\n",
    "\n",
    "# Create table\n",
    "cur.execute(\"\"\"CREATE TABLE `stocks`\n",
    "                (`data text`, `trans text`, `symbol text`, `qty real`, `price`)\"\"\")\n",
    "\n",
    "# Insert a row of data\n",
    "cur.execute(\"INSERT INTO `stocks` VALUES ('2006-01-05','BUY','RHAT',100,35.14)\")\n",
    "cur.execute(\"INSERT INTO `stocks` VALUES ('2006-03-28','BUY','IBM',1000,45.00)\")\n",
    "cur.execute(\"INSERT INTO `stocks` VALUES ('2006-04-06','SELL','IBM',500,53.00)\")\n",
    "cur.execute(\"INSERT INTO `stocks` VALUES ('2006-04-05','BUY','MSFT',1000,72.00)\")\n",
    "\n",
    "\n",
    "# Save (commit) the changes\n",
    "con.commit()\n",
    "\n",
    "# We can also close the connection if we are done with it.\n",
    "# Just be sure any changes have been committed or they will be lost.\n",
    "con.close()"
   ]
  },
  {
   "cell_type": "code",
   "execution_count": 12,
   "metadata": {},
   "outputs": [],
   "source": [
    "import sqlite3\n",
    "con = sqlite3.connect('example.db')\n",
    "cur = con.cursor()"
   ]
  },
  {
   "cell_type": "code",
   "execution_count": 13,
   "metadata": {},
   "outputs": [
    {
     "name": "stdout",
     "output_type": "stream",
     "text": [
      "('2006-01-05', 'BUY', 'RHAT', 100, 35.14)\n",
      "('2006-03-28', 'BUY', 'IBM', 1000, 45.0)\n",
      "('2006-04-06', 'SELL', 'IBM', 500, 53.0)\n",
      "('2006-04-05', 'BUY', 'MSFT', 1000, 72.0)\n"
     ]
    }
   ],
   "source": [
    "for row in cur.execute('SELECT * FROM `stocks` ORDER BY `price`'):\n",
    "    print(row)"
   ]
  },
  {
   "cell_type": "code",
   "execution_count": 14,
   "metadata": {},
   "outputs": [
    {
     "name": "stdout",
     "output_type": "stream",
     "text": [
      "[('C', 1972)]\n"
     ]
    }
   ],
   "source": [
    "import sqlite3\n",
    "\n",
    "con = sqlite3.connect(\":memory:\")\n",
    "cur = con.cursor()\n",
    "cur.execute(\"create table `lang` (`name`, `first_appeared`)\")\n",
    "\n",
    "# This is the qmark style:\n",
    "cur.execute(\"insert into `lang` values (?, ?)\", (\"C\", 1972))\n",
    "\n",
    "# The qmark style used with executemany():\n",
    "lang_list = [\n",
    "    (\"Fortran\", 1957),\n",
    "    (\"Python\", 1991),\n",
    "    (\"Go\", 2009),\n",
    "]\n",
    "cur.executemany(\"insert into `lang` values (?, ?)\", lang_list)\n",
    "\n",
    "# And this is the named style:\n",
    "cur.execute(\"select * from `lang` where `first_appeared`=:year\", {\"year\": 1972})\n",
    "print(cur.fetchall())\n",
    "\n",
    "# Close the database connection.\n",
    "con.close()"
   ]
  }
 ],
 "metadata": {
  "kernelspec": {
   "display_name": "base",
   "language": "python",
   "name": "python3"
  },
  "language_info": {
   "codemirror_mode": {
    "name": "ipython",
    "version": 3
   },
   "file_extension": ".py",
   "mimetype": "text/x-python",
   "name": "python",
   "nbconvert_exporter": "python",
   "pygments_lexer": "ipython3",
   "version": "3.9.13"
  },
  "orig_nbformat": 4
 },
 "nbformat": 4,
 "nbformat_minor": 2
}
