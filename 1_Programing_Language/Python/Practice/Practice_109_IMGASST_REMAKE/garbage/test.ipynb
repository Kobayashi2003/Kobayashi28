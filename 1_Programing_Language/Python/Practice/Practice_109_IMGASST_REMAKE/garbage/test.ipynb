{
 "cells": [
  {
   "cell_type": "code",
   "execution_count": 8,
   "metadata": {},
   "outputs": [
    {
     "name": "stdout",
     "output_type": "stream",
     "text": [
      "format: JPEG, width: 1000, height: 1506, mode: RGB\n"
     ]
    }
   ],
   "source": [
    "from color_extraction import color_extraction\n",
    "\n",
    "with open(\"image.jpg\", \"rb\") as f:\n",
    "    color_extraction(f)"
   ]
  },
  {
   "cell_type": "code",
   "execution_count": 15,
   "metadata": {},
   "outputs": [
    {
     "data": {
      "text/plain": [
       "(((0, 1, 2), (0, 1, 2), (0, 1, 2), (0, 1, 2)),\n",
       " ((0, 1, 2), (0, 1, 2), (0, 1, 2), (0, 1, 2)),\n",
       " ((0, 1, 2), (0, 1, 2), (0, 1, 2), (0, 1, 2)),\n",
       " ((0, 1, 2), (0, 1, 2), (0, 1, 2), (0, 1, 2)))"
      ]
     },
     "execution_count": 15,
     "metadata": {},
     "output_type": "execute_result"
    }
   ],
   "source": [
    "import numpy as np\n",
    "\n",
    "a = np.array([[ range(3) for _ in range(4)] for _ in range(4)])\n",
    "tuple(tuple(tuple(color) for color in line) for line in a)"
   ]
  },
  {
   "cell_type": "code",
   "execution_count": 1,
   "metadata": {},
   "outputs": [
    {
     "ename": "ValueError",
     "evalue": "sleep length must be non-negative",
     "output_type": "error",
     "traceback": [
      "\u001b[1;31m---------------------------------------------------------------------------\u001b[0m",
      "\u001b[1;31mValueError\u001b[0m                                Traceback (most recent call last)",
      "Cell \u001b[1;32mIn[1], line 2\u001b[0m\n\u001b[0;32m      1\u001b[0m \u001b[39mimport\u001b[39;00m \u001b[39mtime\u001b[39;00m\n\u001b[1;32m----> 2\u001b[0m time\u001b[39m.\u001b[39;49msleep(\u001b[39m-\u001b[39;49m\u001b[39m1\u001b[39;49m)\n",
      "\u001b[1;31mValueError\u001b[0m: sleep length must be non-negative"
     ]
    }
   ],
   "source": [
    "import time\n",
    "time.sleep(-1)"
   ]
  },
  {
   "cell_type": "code",
   "execution_count": 7,
   "metadata": {},
   "outputs": [
    {
     "data": {
      "text/plain": [
       "[1, 2, 3, 1, 2, 3, 1, 2, 3]"
      ]
     },
     "execution_count": 7,
     "metadata": {},
     "output_type": "execute_result"
    }
   ],
   "source": [
    "l1 = [[1, 2, 3] for i in range(3)]\n",
    "l2 = sum(l1, [])\n",
    "l2"
   ]
  },
  {
   "cell_type": "code",
   "execution_count": 2,
   "metadata": {},
   "outputs": [
    {
     "name": "stdout",
     "output_type": "stream",
     "text": [
      "[[0], [0], [0]]\n"
     ]
    }
   ],
   "source": [
    "l = [[1,], [2, ], [3, ]]\n",
    "for i in l:\n",
    "    i[0] = 0\n",
    "print(l)"
   ]
  },
  {
   "cell_type": "code",
   "execution_count": null,
   "metadata": {},
   "outputs": [],
   "source": [
    "import sys\n",
    "from colorama import init\n",
    "init(strip=not sys.stdout.isatty()) # strip colors if stdout is redirected (sometimes replit could bug out :/)\n",
    "from termcolor import cprint \n",
    "from pyfiglet import figlet_format\n",
    "cprint(figlet_format('missile!', font='starwars'),\n",
    "       'yellow', 'on_red', attrs=['bold'])"
   ]
  }
 ],
 "metadata": {
  "kernelspec": {
   "display_name": "base",
   "language": "python",
   "name": "python3"
  },
  "language_info": {
   "codemirror_mode": {
    "name": "ipython",
    "version": 3
   },
   "file_extension": ".py",
   "mimetype": "text/x-python",
   "name": "python",
   "nbconvert_exporter": "python",
   "pygments_lexer": "ipython3",
   "version": "3.10.9"
  },
  "orig_nbformat": 4
 },
 "nbformat": 4,
 "nbformat_minor": 2
}
