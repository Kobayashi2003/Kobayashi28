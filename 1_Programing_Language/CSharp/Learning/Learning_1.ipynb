{
 "cells": [
  {
   "cell_type": "markdown",
   "metadata": {},
   "source": [
    "[launch.json的配置](https://github.com/OmniSharp/omnisharp-vscode/blob/master/debugger-launchjson.md)"
   ]
  },
  {
   "cell_type": "markdown",
   "metadata": {},
   "source": [
    "# C\\#中的字符串"
   ]
  },
  {
   "cell_type": "code",
   "execution_count": 1,
   "metadata": {
    "dotnet_interactive": {
     "language": "csharp"
    },
    "vscode": {
     "languageId": "dotnet-interactive.csharp"
    }
   },
   "outputs": [
    {
     "name": "stdout",
     "output_type": "stream",
     "text": [
      "Hello World!\r\n"
     ]
    }
   ],
   "source": [
    "string str = \"Hello World!\";\n",
    "Console.WriteLine(str);"
   ]
  },
  {
   "cell_type": "code",
   "execution_count": null,
   "metadata": {
    "dotnet_interactive": {
     "language": "csharp"
    },
    "vscode": {
     "languageId": "dotnet-interactive.csharp"
    }
   },
   "outputs": [
    {
     "name": "stdout",
     "output_type": "stream",
     "text": [
      "Hello C#!"
     ]
    }
   ],
   "source": [
    "str = \"Hello C#!\";\n",
    "Console.Write(str);"
   ]
  },
  {
   "cell_type": "code",
   "execution_count": null,
   "metadata": {
    "dotnet_interactive": {
     "language": "csharp"
    },
    "vscode": {
     "languageId": "dotnet-interactive.csharp"
    }
   },
   "outputs": [
    {
     "name": "stdout",
     "output_type": "stream",
     "text": [
      "Hello C#!!!!!!!"
     ]
    }
   ],
   "source": [
    "Console.Write(str + \"!!!!!!\");"
   ]
  },
  {
   "cell_type": "code",
   "execution_count": null,
   "metadata": {
    "dotnet_interactive": {
     "language": "csharp"
    },
    "vscode": {
     "languageId": "dotnet-interactive.csharp"
    }
   },
   "outputs": [
    {
     "name": "stdout",
     "output_type": "stream",
     "text": [
      "Hello C#! YEAH!!!!!!\r\n"
     ]
    }
   ],
   "source": [
    "Console.WriteLine($\"{str} YEAH!!!!!!\")"
   ]
  },
  {
   "cell_type": "code",
   "execution_count": null,
   "metadata": {
    "dotnet_interactive": {
     "language": "csharp"
    },
    "vscode": {
     "languageId": "dotnet-interactive.csharp"
    }
   },
   "outputs": [
    {
     "name": "stdout",
     "output_type": "stream",
     "text": [
      "Hello World!!!!!\r\n"
     ]
    }
   ],
   "source": [
    "string str1 = \"Hello\";\n",
    "string str2 = \"World\";\n",
    "Console.WriteLine($\"{str1} {str2}!!!!!\");"
   ]
  },
  {
   "cell_type": "code",
   "execution_count": null,
   "metadata": {
    "dotnet_interactive": {
     "language": "csharp"
    },
    "vscode": {
     "languageId": "dotnet-interactive.csharp"
    }
   },
   "outputs": [
    {
     "name": "stdout",
     "output_type": "stream",
     "text": [
      "5\r\n"
     ]
    }
   ],
   "source": [
    "Console.WriteLine(str1.Length);"
   ]
  },
  {
   "cell_type": "code",
   "execution_count": null,
   "metadata": {
    "dotnet_interactive": {
     "language": "csharp"
    },
    "vscode": {
     "languageId": "dotnet-interactive.csharp"
    }
   },
   "outputs": [
    {
     "name": "stdout",
     "output_type": "stream",
     "text": [
      "   Hello World!     \r\n"
     ]
    }
   ],
   "source": [
    "string greeting = \"   Hello World!     \";\n",
    "Console.WriteLine(greeting);"
   ]
  },
  {
   "cell_type": "code",
   "execution_count": null,
   "metadata": {
    "dotnet_interactive": {
     "language": "csharp"
    },
    "vscode": {
     "languageId": "dotnet-interactive.csharp"
    }
   },
   "outputs": [
    {
     "name": "stdout",
     "output_type": "stream",
     "text": [
      "[Hello World!     ]\r\n",
      "[   Hello World!]\r\n",
      "[Hello World!]\r\n"
     ]
    }
   ],
   "source": [
    "string trimmedGreeting = greeting.TrimStart();\n",
    "Console.WriteLine($\"[{trimmedGreeting}]\");\n",
    "\n",
    "trimmedGreeting = greeting.TrimEnd();\n",
    "Console.WriteLine($\"[{trimmedGreeting}]\");\n",
    "\n",
    "trimmedGreeting = greeting.Trim();\n",
    "Console.WriteLine($\"[{trimmedGreeting}]\");"
   ]
  },
  {
   "cell_type": "code",
   "execution_count": null,
   "metadata": {
    "dotnet_interactive": {
     "language": "csharp"
    },
    "vscode": {
     "languageId": "dotnet-interactive.csharp"
    }
   },
   "outputs": [
    {
     "name": "stdout",
     "output_type": "stream",
     "text": [
      "Hello World! Hello C#!\r\n",
      "Greetings World! Greetings C#!\r\n"
     ]
    }
   ],
   "source": [
    "string sayHello = \"Hello World! Hello C#!\";\n",
    "Console.WriteLine(sayHello);\n",
    "sayHello = sayHello.Replace(\"Hello\", \"Greetings\");\n",
    "Console.WriteLine(sayHello);"
   ]
  },
  {
   "cell_type": "code",
   "execution_count": null,
   "metadata": {
    "dotnet_interactive": {
     "language": "csharp"
    },
    "vscode": {
     "languageId": "dotnet-interactive.csharp"
    }
   },
   "outputs": [
    {
     "name": "stdout",
     "output_type": "stream",
     "text": [
      "GREETINGS WORLD! GREETINGS C#!\r\n",
      "greetings world! greetings c#!\r\n"
     ]
    }
   ],
   "source": [
    "Console.WriteLine(sayHello.ToUpper());\n",
    "Console.WriteLine(sayHello.ToLower());"
   ]
  },
  {
   "cell_type": "code",
   "execution_count": null,
   "metadata": {
    "dotnet_interactive": {
     "language": "csharp"
    },
    "vscode": {
     "languageId": "dotnet-interactive.csharp"
    }
   },
   "outputs": [
    {
     "name": "stdout",
     "output_type": "stream",
     "text": [
      "True\r\n",
      "False\r\n"
     ]
    }
   ],
   "source": [
    "string songLyrics = \"You say goodbye, and I say hello\";\n",
    "Console.WriteLine(songLyrics.Contains(\"goodbye\"));\n",
    "Console.WriteLine(songLyrics.Contains(\"grettings\"));"
   ]
  },
  {
   "cell_type": "code",
   "execution_count": null,
   "metadata": {
    "dotnet_interactive": {
     "language": "csharp"
    },
    "vscode": {
     "languageId": "dotnet-interactive.csharp"
    }
   },
   "outputs": [
    {
     "name": "stdout",
     "output_type": "stream",
     "text": [
      "True\r\n",
      "False\r\n",
      "True\r\n",
      "False\r\n"
     ]
    }
   ],
   "source": [
    "Console.WriteLine(songLyrics.StartsWith(\"You\"));\n",
    "Console.WriteLine(songLyrics.StartsWith(\"goodbye\"));\n",
    "Console.WriteLine(songLyrics.EndsWith(\"hello\"));\n",
    "Console.WriteLine(songLyrics.EndsWith(\"goodbye\"));"
   ]
  },
  {
   "cell_type": "markdown",
   "metadata": {},
   "source": [
    "# C\\#中的数字"
   ]
  },
  {
   "cell_type": "code",
   "execution_count": null,
   "metadata": {
    "dotnet_interactive": {
     "language": "csharp"
    },
    "vscode": {
     "languageId": "dotnet-interactive.csharp"
    }
   },
   "outputs": [
    {
     "name": "stdout",
     "output_type": "stream",
     "text": [
      "24\r\n"
     ]
    }
   ],
   "source": [
    "int a = 18;\n",
    "int b = 6;\n",
    "int c = a + b;\n",
    "Console.WriteLine(c);"
   ]
  },
  {
   "cell_type": "code",
   "execution_count": null,
   "metadata": {
    "dotnet_interactive": {
     "language": "csharp"
    },
    "vscode": {
     "languageId": "dotnet-interactive.csharp"
    }
   },
   "outputs": [
    {
     "name": "stdout",
     "output_type": "stream",
     "text": [
      "162\r\n"
     ]
    }
   ],
   "source": [
    "Console.WriteLine(a+b*c)"
   ]
  },
  {
   "cell_type": "code",
   "execution_count": null,
   "metadata": {
    "dotnet_interactive": {
     "language": "csharp"
    },
    "vscode": {
     "languageId": "dotnet-interactive.csharp"
    }
   },
   "outputs": [
    {
     "name": "stdout",
     "output_type": "stream",
     "text": [
      "6\r\n"
     ]
    }
   ],
   "source": [
    "Console.WriteLine(c % a);"
   ]
  },
  {
   "cell_type": "code",
   "execution_count": null,
   "metadata": {
    "dotnet_interactive": {
     "language": "csharp"
    },
    "vscode": {
     "languageId": "dotnet-interactive.csharp"
    }
   },
   "outputs": [
    {
     "name": "stdout",
     "output_type": "stream",
     "text": [
      "The range of integers is -2147483648 to 2147483647\r\n"
     ]
    }
   ],
   "source": [
    "int max = int.MaxValue;\n",
    "int min = int.MinValue;\n",
    "Console.WriteLine($\"The range of integers is {min} to {max}\");"
   ]
  },
  {
   "cell_type": "code",
   "execution_count": null,
   "metadata": {
    "dotnet_interactive": {
     "language": "csharp"
    },
    "vscode": {
     "languageId": "dotnet-interactive.csharp"
    }
   },
   "outputs": [
    {
     "name": "stdout",
     "output_type": "stream",
     "text": [
      "An example of overflow: -2147483646\r\n"
     ]
    }
   ],
   "source": [
    "int what = max + 3;\n",
    "Console.WriteLine($\"An example of overflow: {what}\");"
   ]
  },
  {
   "cell_type": "code",
   "execution_count": null,
   "metadata": {
    "dotnet_interactive": {
     "language": "csharp"
    },
    "vscode": {
     "languageId": "dotnet-interactive.csharp"
    }
   },
   "outputs": [
    {
     "name": "stdout",
     "output_type": "stream",
     "text": [
      "4.5\r\n"
     ]
    }
   ],
   "source": [
    "double a = 5;\n",
    "double b = 4;\n",
    "double c = 2;\n",
    "Console.WriteLine($\"{(a + b)/c}\");"
   ]
  },
  {
   "cell_type": "code",
   "execution_count": null,
   "metadata": {
    "dotnet_interactive": {
     "language": "csharp"
    },
    "vscode": {
     "languageId": "dotnet-interactive.csharp"
    }
   },
   "outputs": [
    {
     "name": "stdout",
     "output_type": "stream",
     "text": [
      "The range of double is -1.7976931348623157E+308 to 1.7976931348623157E+308\r\n"
     ]
    }
   ],
   "source": [
    "double max = double.MaxValue;\n",
    "double min = double.MinValue;\n",
    "Console.WriteLine($\"The range of double is {min} to {max}\")"
   ]
  },
  {
   "cell_type": "code",
   "execution_count": null,
   "metadata": {
    "dotnet_interactive": {
     "language": "csharp"
    },
    "vscode": {
     "languageId": "dotnet-interactive.csharp"
    }
   },
   "outputs": [
    {
     "name": "stdout",
     "output_type": "stream",
     "text": [
      "The range of the decimal type is 79228162514264337593543950335 to 79228162514264337593543950335\r\n"
     ]
    }
   ],
   "source": [
    "decimal min = decimal.MaxValue;\n",
    "decimal max = decimal.MaxValue;\n",
    "Console.WriteLine($\"The range of the decimal type is {min} to {max}\");"
   ]
  },
  {
   "cell_type": "code",
   "execution_count": null,
   "metadata": {
    "dotnet_interactive": {
     "language": "csharp"
    },
    "vscode": {
     "languageId": "dotnet-interactive.csharp"
    }
   },
   "outputs": [
    {
     "name": "stdout",
     "output_type": "stream",
     "text": [
      "0.3333333333333333\r\n",
      "0.3333333333333333333333333333\r\n"
     ]
    }
   ],
   "source": [
    "double a = 1.0;\n",
    "double b = 3.0;\n",
    "Console.WriteLine(a / b);\n",
    "\n",
    "decimal c = 1.0M;\n",
    "decimal d = 3.0M;\n",
    "Console.WriteLine(c / d);"
   ]
  },
  {
   "cell_type": "markdown",
   "metadata": {},
   "source": [
    "> 数字中的 `M` 后缀指明了常数应如何使用 `decimal` 类型，否则，编译器假定为 `double` 类型\n",
    "\n",
    "> 字母 `M` 被选为 `double` 与 `decimal` 关键字之间最明显不同的字母  "
   ]
  },
  {
   "cell_type": "code",
   "execution_count": null,
   "metadata": {
    "dotnet_interactive": {
     "language": "csharp"
    },
    "vscode": {
     "languageId": "dotnet-interactive.csharp"
    }
   },
   "outputs": [
    {
     "name": "stdout",
     "output_type": "stream",
     "text": [
      "19.634954084936208\r\n"
     ]
    }
   ],
   "source": [
    "double radius = 2.50;\n",
    "double area = Math.PI * radius * radius;\n",
    "Console.WriteLine(area);"
   ]
  },
  {
   "cell_type": "code",
   "execution_count": null,
   "metadata": {
    "dotnet_interactive": {
     "language": "csharp"
    },
    "vscode": {
     "languageId": "dotnet-interactive.csharp"
    }
   },
   "outputs": [
    {
     "name": "stdout",
     "output_type": "stream",
     "text": [
      "NaN\r\n",
      "-∞\r\n",
      "∞\r\n"
     ]
    }
   ],
   "source": [
    "Console.WriteLine(Double.NaN);\n",
    "Console.WriteLine(Double.NegativeInfinity);\n",
    "Console.WriteLine(double.PositiveInfinity);\n"
   ]
  },
  {
   "cell_type": "markdown",
   "metadata": {},
   "source": [
    "- 不带后缀的文本或带有 `d` 或 `D` 后缀的文本的类型为 `double`\n",
    "- 带有 `f` 或 `F` 后缀的文本的类型为 `float`\n",
    "- 带有 `m` 或 `M` 后缀的文本的类型为 `decimal`"
   ]
  },
  {
   "cell_type": "markdown",
   "metadata": {},
   "source": [
    "# 布尔类型"
   ]
  },
  {
   "cell_type": "code",
   "execution_count": null,
   "metadata": {
    "dotnet_interactive": {
     "language": "csharp"
    },
    "vscode": {
     "languageId": "dotnet-interactive.csharp"
    }
   },
   "outputs": [
    {
     "name": "stdout",
     "output_type": "stream",
     "text": [
      "Checked\r\n",
      "Not checked\r\n"
     ]
    }
   ],
   "source": [
    "bool check = true;\n",
    "Console.WriteLine(check ? \"Checked\" : \"Not checked\");\n",
    "Console.WriteLine(false ? \"Checked\" : \"Not checked\");"
   ]
  },
  {
   "cell_type": "markdown",
   "metadata": {},
   "source": [
    "# 字符类型"
   ]
  },
  {
   "cell_type": "code",
   "execution_count": null,
   "metadata": {
    "dotnet_interactive": {
     "language": "csharp"
    },
    "vscode": {
     "languageId": "dotnet-interactive.csharp"
    }
   },
   "outputs": [
    {
     "name": "stdout",
     "output_type": "stream",
     "text": [
      "A\r\n"
     ]
    }
   ],
   "source": [
    "char c = 'A';\n",
    "Console.WriteLine(c);"
   ]
  },
  {
   "cell_type": "code",
   "execution_count": null,
   "metadata": {
    "dotnet_interactive": {
     "language": "csharp"
    },
    "vscode": {
     "languageId": "dotnet-interactive.csharp"
    }
   },
   "outputs": [
    {
     "name": "stdout",
     "output_type": "stream",
     "text": [
      "j j j j\r\n"
     ]
    }
   ],
   "source": [
    "var chars = new[]\n",
    "{\n",
    "    'j',\n",
    "    '\\u006A',\n",
    "    '\\x006A',\n",
    "    (char)106,\n",
    "};\n",
    "Console.WriteLine(string.Join(\" \", chars));"
   ]
  },
  {
   "cell_type": "markdown",
   "metadata": {},
   "source": [
    "- 对于 Unicode 序列，必须指定全部四位 16进制值\n",
    "- 对于十六进制转义序列，可以省略前导零"
   ]
  },
  {
   "cell_type": "markdown",
   "metadata": {},
   "source": [
    "# 枚举类型"
   ]
  },
  {
   "cell_type": "code",
   "execution_count": null,
   "metadata": {
    "dotnet_interactive": {
     "language": "csharp"
    },
    "vscode": {
     "languageId": "dotnet-interactive.csharp"
    }
   },
   "outputs": [],
   "source": [
    "enum Season {\n",
    "    Spring,\n",
    "    Summer,\n",
    "    Autumn,\n",
    "    Winter,\n",
    "}"
   ]
  },
  {
   "cell_type": "code",
   "execution_count": null,
   "metadata": {
    "dotnet_interactive": {
     "language": "csharp"
    },
    "vscode": {
     "languageId": "dotnet-interactive.csharp"
    }
   },
   "outputs": [],
   "source": [
    "enum ErrorCode : ushort {\n",
    "    None = 0,\n",
    "    Unkown = 1,\n",
    "    ConnectionLost = 100,\n",
    "    OutlierReading = 200,\n",
    "}"
   ]
  },
  {
   "cell_type": "markdown",
   "metadata": {},
   "source": [
    "## 作为位标志的枚举类型"
   ]
  },
  {
   "cell_type": "code",
   "execution_count": null,
   "metadata": {
    "dotnet_interactive": {
     "language": "csharp"
    },
    "vscode": {
     "languageId": "dotnet-interactive.csharp"
    }
   },
   "outputs": [],
   "source": [
    "[Flags]\n",
    "public enum Days\n",
    "{\n",
    "    None      = 0b_0000_0000,  // 0\n",
    "    Monday    = 0b_0000_0001,  // 1\n",
    "    Tuesday   = 0b_0000_0010,  // 2\n",
    "    Wednesday = 0b_0000_0100,  // 4\n",
    "    Thursday  = 0b_0000_1000,  // 8\n",
    "    Friday    = 0b_0001_0000,  // 16\n",
    "    Saturday  = 0b_0010_0000,  // 32\n",
    "    Sunday    = 0b_0100_0000,  // 64\n",
    "    Weekend   = Saturday | Sunday\n",
    "}\n",
    "\n",
    "public class FlagsEnumExample\n",
    "{\n",
    "    public static void Main()\n",
    "    {\n",
    "        Days meetingDays = Days.Monday | Days.Wednesday | Days.Friday;\n",
    "        Console.WriteLine(meetingDays);\n",
    "        // Output:\n",
    "        // Monday, Wednesday, Friday\n",
    "\n",
    "        Days workingFromHomeDays = Days.Thursday | Days.Friday;\n",
    "        Console.WriteLine($\"Join a meeting by phone on {meetingDays & workingFromHomeDays}\");\n",
    "        // Output:\n",
    "        // Join a meeting by phone on Friday\n",
    "\n",
    "        bool isMeetingOnTuesday = (meetingDays & Days.Tuesday) == Days.Tuesday;\n",
    "        Console.WriteLine($\"Is there a meeting on Tuesday: {isMeetingOnTuesday}\");\n",
    "        // Output:\n",
    "        // Is there a meeting on Tuesday: False\n",
    "\n",
    "        var a = (Days)37;\n",
    "        Console.WriteLine(a);\n",
    "        // Output:\n",
    "        // Monday, Wednesday, Saturday\n",
    "    }\n",
    "}"
   ]
  },
  {
   "cell_type": "markdown",
   "metadata": {},
   "source": [
    "# 结构类型"
   ]
  },
  {
   "cell_type": "code",
   "execution_count": null,
   "metadata": {
    "dotnet_interactive": {
     "language": "csharp"
    },
    "vscode": {
     "languageId": "dotnet-interactive.csharp"
    }
   },
   "outputs": [],
   "source": [
    "public struct Coords {\n",
    "    public Coords(double x, double y) {\n",
    "        X = x; Y = y;\n",
    "    }\n",
    "\n",
    "    public double X {get;}\n",
    "    public double Y {get;}\n",
    "\n",
    "    public override string ToString() => $\"({X}, {Y})\";\n",
    "}"
   ]
  },
  {
   "cell_type": "markdown",
   "metadata": {},
   "source": [
    "## readonly 结构"
   ]
  },
  {
   "cell_type": "code",
   "execution_count": null,
   "metadata": {
    "dotnet_interactive": {
     "language": "csharp"
    },
    "vscode": {
     "languageId": "dotnet-interactive.csharp"
    }
   },
   "outputs": [],
   "source": [
    "public readonly struct Coords {\n",
    "    public Coords(double x, double y) {\n",
    "        X = x; Y = y;\n",
    "    }\n",
    "\n",
    "    public double X { get; init; }\n",
    "    public double Y { get; init; }\n",
    "\n",
    "    public override string ToString() => $\"({x}, {y}))\";\n",
    "} "
   ]
  },
  {
   "cell_type": "markdown",
   "metadata": {},
   "source": [
    "# 元组类型"
   ]
  },
  {
   "cell_type": "code",
   "execution_count": null,
   "metadata": {
    "dotnet_interactive": {
     "language": "csharp"
    },
    "vscode": {
     "languageId": "dotnet-interactive.csharp"
    }
   },
   "outputs": [
    {
     "name": "stdout",
     "output_type": "stream",
     "text": [
      "Tuple with elements 4.3 and 5.\r\n",
      "Sum of 5 elements is 4.3.\r\n"
     ]
    }
   ],
   "source": [
    "(double, int)t1 = (4.3, 5);\n",
    "Console.WriteLine($\"Tuple with elements {t1.Item1} and {t1.Item2}.\");\n",
    "\n",
    "(double Sum, int Count) t2 = (4.3, 5);\n",
    "Console.WriteLine($\"Sum of {t2.Count} elements is {t2.Sum}.\");"
   ]
  },
  {
   "cell_type": "code",
   "execution_count": null,
   "metadata": {
    "dotnet_interactive": {
     "language": "csharp"
    },
    "vscode": {
     "languageId": "dotnet-interactive.csharp"
    }
   },
   "outputs": [
    {
     "name": "stdout",
     "output_type": "stream",
     "text": [
      "(4.5, 3)\r\n",
      "Hash code of (4.5, 3) is -1311022283.\r\n"
     ]
    }
   ],
   "source": [
    "(double, int) t = (4.5, 3);\n",
    "Console.WriteLine(t.ToString());\n",
    "Console.WriteLine($\"Hash code of {t} is {t.GetHashCode()}.\");"
   ]
  },
  {
   "cell_type": "code",
   "execution_count": null,
   "metadata": {
    "dotnet_interactive": {
     "language": "csharp"
    },
    "vscode": {
     "languageId": "dotnet-interactive.csharp"
    }
   },
   "outputs": [
    {
     "name": "stdout",
     "output_type": "stream",
     "text": [
      "26\r\n"
     ]
    }
   ],
   "source": [
    "// 可以使用任意数量的元素定义元组\n",
    "var t = \n",
    "(1, 2, 3, 4, 5, 6, 7, 8, 9, 10,\n",
    "11, 12, 13, 14, 15, 16, 17, 18,\n",
    "19, 20, 21, 22, 23, 24, 25, 26);\n",
    "Console.WriteLine(t.Item26);  // output: 26"
   ]
  },
  {
   "cell_type": "markdown",
   "metadata": {},
   "source": [
    "## 元组的用例"
   ]
  },
  {
   "cell_type": "code",
   "execution_count": null,
   "metadata": {
    "dotnet_interactive": {
     "language": "csharp"
    },
    "vscode": {
     "languageId": "dotnet-interactive.csharp"
    }
   },
   "outputs": [
    {
     "name": "stdout",
     "output_type": "stream",
     "text": [
      "Limits of [4 7 9] are 4 and 9\r\n",
      "Limits of [-9 0 67 100] are -9 and 100\r\n"
     ]
    }
   ],
   "source": [
    "var xs = new[] { 4, 7, 9 };\n",
    "var limits = FindMinMax(xs);\n",
    "Console.WriteLine($\"Limits of [{string.Join(\" \", xs)}] are {limits.min} and {limits.max}\");\n",
    "// Output:\n",
    "// Limits of [4 7 9] are 4 and 9\n",
    "\n",
    "var ys = new[] { -9, 0, 67, 100 };\n",
    "var (minimum, maximum) = FindMinMax(ys);\n",
    "Console.WriteLine($\"Limits of [{string.Join(\" \", ys)}] are {minimum} and {maximum}\");\n",
    "// Output:\n",
    "// Limits of [-9 0 67 100] are -9 and 100\n",
    "\n",
    "(int min, int max) FindMinMax(int[] input)\n",
    "{\n",
    "    if (input is null || input.Length == 0)\n",
    "    {\n",
    "        throw new ArgumentException(\"Cannot find minimum and maximum of a null or empty array.\");\n",
    "    }\n",
    "\n",
    "    var min = int.MaxValue;\n",
    "    var max = int.MinValue;\n",
    "    foreach (var i in input)\n",
    "    {\n",
    "        if (i < min)\n",
    "        {\n",
    "            min = i;\n",
    "        }\n",
    "        if (i > max)\n",
    "        {\n",
    "            max = i;\n",
    "        }\n",
    "    }\n",
    "    return (min, max);\n",
    "}"
   ]
  },
  {
   "cell_type": "markdown",
   "metadata": {},
   "source": [
    "## 元组字段名称"
   ]
  },
  {
   "cell_type": "code",
   "execution_count": null,
   "metadata": {
    "dotnet_interactive": {
     "language": "csharp"
    },
    "vscode": {
     "languageId": "dotnet-interactive.csharp"
    }
   },
   "outputs": [
    {
     "name": "stdout",
     "output_type": "stream",
     "text": [
      "Sum of 3 elements is 4.5.\r\n",
      "Sum of 3 elements is 4.5.\r\n"
     ]
    }
   ],
   "source": [
    "var t = (Sum: 4.5, Count: 3);\n",
    "Console.WriteLine($\"Sum of {t.Count} elements is {t.Sum}.\");\n",
    "\n",
    "(double Sum, int Count) d = (4.5, 3);\n",
    "Console.WriteLine($\"Sum of {d.Count} elements is {d.Sum}.\");"
   ]
  },
  {
   "cell_type": "code",
   "execution_count": null,
   "metadata": {
    "dotnet_interactive": {
     "language": "csharp"
    },
    "vscode": {
     "languageId": "dotnet-interactive.csharp"
    }
   },
   "outputs": [
    {
     "name": "stdout",
     "output_type": "stream",
     "text": [
      "Sum of 3 elements is 4.5.\r\n"
     ]
    }
   ],
   "source": [
    "var sum = 4.5;\n",
    "var count = 3;\n",
    "var t = (sum, count);\n",
    "Console.WriteLine($\"Sum of {t.count} elements is {t.sum}.\");"
   ]
  },
  {
   "cell_type": "markdown",
   "metadata": {},
   "source": [
    "这称为元组投影初始值设定项。 在以下情况下，变量名称不会被投影到元组字段名称中：\n",
    "\n",
    "- 候选名称是元组类型的成员名称，例如 Item3、ToString 或 Rest。\n",
    "- 候选名称是另一元组的显式或隐式字段名称的重复项。\n",
    "在这些情况下，你可以显式指定字段的名称，或按字段的默认名称访问字段。\n",
    "\n",
    "元组字段的默认名称为 Item1、Item2、Item3 等。 始终可以使用字段的默认名称，即使字段名称是显式指定的或推断出的，如下面的示例所示：\n"
   ]
  },
  {
   "cell_type": "code",
   "execution_count": null,
   "metadata": {
    "dotnet_interactive": {
     "language": "csharp"
    },
    "vscode": {
     "languageId": "dotnet-interactive.csharp"
    }
   },
   "outputs": [
    {
     "name": "stdout",
     "output_type": "stream",
     "text": [
      "The 1st element is 1 (same as 1).\r\n",
      "The 2nd element is 2 (same as 2).\r\n",
      "The 3rd element is 3.\r\n"
     ]
    }
   ],
   "source": [
    "var a = 1;\n",
    "var t = (a, b: 2, 3);\n",
    "Console.WriteLine($\"The 1st element is {t.Item1} (same as {t.a}).\");\n",
    "Console.WriteLine($\"The 2nd element is {t.Item2} (same as {t.b}).\");\n",
    "Console.WriteLine($\"The 3rd element is {t.Item3}.\");\n",
    "// Output:\n",
    "// The 1st element is 1 (same as 1).\n",
    "// The 2nd element is 2 (same as 2).\n",
    "// The 3rd element is 3."
   ]
  },
  {
   "cell_type": "markdown",
   "metadata": {},
   "source": [
    "元组赋值和元组相等比较不会考虑字段名称。\n",
    "\n",
    "在编译时，编译器会将非默认字段名称替换为相应的默认名称。 因此，显式指定或推断的字段名称在运行时不可用。"
   ]
  },
  {
   "cell_type": "code",
   "execution_count": null,
   "metadata": {
    "dotnet_interactive": {
     "language": "csharp"
    },
    "vscode": {
     "languageId": "dotnet-interactive.csharp"
    }
   },
   "outputs": [],
   "source": []
  }
 ],
 "metadata": {
  "kernelspec": {
   "display_name": ".NET (C#)",
   "language": "C#",
   "name": ".net-csharp"
  },
  "language_info": {
   "name": "C#"
  }
 },
 "nbformat": 4,
 "nbformat_minor": 2
}
