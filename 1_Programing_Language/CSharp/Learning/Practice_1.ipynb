{
 "cells": [
  {
   "cell_type": "code",
   "execution_count": null,
   "metadata": {
    "dotnet_interactive": {
     "language": "csharp"
    },
    "vscode": {
     "languageId": "dotnet-interactive.csharp"
    }
   },
   "outputs": [],
   "source": [
    "public class Stack<T> {\n",
    "    \n",
    "    Entry _top;\n",
    "\n",
    "    public void Push(T data) {\n",
    "        _top = new Entry(_top, data);\n",
    "    }\n",
    "\n",
    "    public T Pop() {\n",
    "\n",
    "        if (_top == null) {\n",
    "            throw new InvalidOperationException();\n",
    "        }\n",
    "        T result = _top.Data;\n",
    "        _top = _top.Next;\n",
    "\n",
    "        return result;\n",
    "    }\n",
    "\n",
    "    class Entry {\n",
    "\n",
    "        public Entry Next { get; set; }\n",
    "        public T Data { get; set; }\n",
    "\n",
    "        public Entry(Entry next, T data) {\n",
    "            Next = next;\n",
    "            Data = data;\n",
    "        }\n",
    "    }\n",
    "}\n",
    "\n",
    "\n",
    "class Example\n",
    "{\n",
    "    public static void Main()\n",
    "    {\n",
    "        var s = new Stack<int>();\n",
    "        s.Push(1); // stack contains 1\n",
    "        s.Push(10); // stack contains 1, 10\n",
    "        s.Push(100); // stack contains 1, 10, 100\n",
    "        Console.WriteLine(s.Pop()); // stack contains 1, 10\n",
    "        Console.WriteLine(s.Pop()); // stack contains 1\n",
    "        Console.WriteLine(s.Pop()); // stack is empty\n",
    "    }\n",
    "}\n"
   ]
  },
  {
   "cell_type": "code",
   "execution_count": null,
   "metadata": {
    "dotnet_interactive": {
     "language": "csharp"
    },
    "vscode": {
     "languageId": "dotnet-interactive.csharp"
    }
   },
   "outputs": [],
   "source": []
  }
 ],
 "metadata": {
  "kernelspec": {
   "display_name": ".NET (C#)",
   "language": "C#",
   "name": ".net-csharp"
  },
  "language_info": {
   "name": "C#"
  }
 },
 "nbformat": 4,
 "nbformat_minor": 2
}
